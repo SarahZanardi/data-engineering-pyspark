{
 "cells": [
  {
   "cell_type": "markdown",
   "metadata": {
    "application/vnd.databricks.v1+cell": {
     "cellMetadata": {
      "byteLimit": 2048000,
      "rowLimit": 10000
     },
     "inputWidgets": {},
     "nuid": "693813b5-9a34-4c6b-8f6e-0fd8b64b9e5a",
     "showTitle": false,
     "tableResultSettingsMap": {},
     "title": ""
    }
   },
   "source": [
    "Spark - Data Engineering\n",
    "\n",
    "Conhecendo um notebook no Databricks\n",
    "\n",
    "PySpark Dataframe\n",
    "\n",
    "Lendo um dataset\n",
    "\n",
    "Checando os datatypes de algumas colunas de um dataframe PySpark\n",
    "\n",
    "Selecionando colunas e índices\n",
    "\n",
    "Visualizando estatísticas descritivas de dados de dataframes\n",
    "\n",
    "Adicionando colunas em Dataframes\n",
    "\n",
    "Removendo colunas em Dataframes\n",
    "\n",
    "Renomeando colunas em Dataframes\n",
    "\n",
    "Trabalhando com missing values"
   ]
  },
  {
   "cell_type": "code",
   "execution_count": 0,
   "metadata": {
    "application/vnd.databricks.v1+cell": {
     "cellMetadata": {
      "byteLimit": 2048000,
      "rowLimit": 10000
     },
     "inputWidgets": {},
     "nuid": "b80ad857-85db-4dba-b74e-2d6298fa94ce",
     "showTitle": false,
     "tableResultSettingsMap": {},
     "title": ""
    }
   },
   "outputs": [
    {
     "name": "stdout",
     "output_type": "stream",
     "text": [
      "olá mundo\n"
     ]
    }
   ],
   "source": [
    "print (\"olá mundo\")"
   ]
  },
  {
   "cell_type": "code",
   "execution_count": 0,
   "metadata": {
    "application/vnd.databricks.v1+cell": {
     "cellMetadata": {
      "byteLimit": 2048000,
      "rowLimit": 10000
     },
     "inputWidgets": {},
     "nuid": "5183c6ee-81e8-4e3c-8d96-da7f95d0a1d1",
     "showTitle": false,
     "tableResultSettingsMap": {},
     "title": ""
    }
   },
   "outputs": [
    {
     "data": {
      "text/html": [
       "<style scoped>\n",
       "  .table-result-container {\n",
       "    max-height: 300px;\n",
       "    overflow: auto;\n",
       "  }\n",
       "  table, th, td {\n",
       "    border: 1px solid black;\n",
       "    border-collapse: collapse;\n",
       "  }\n",
       "  th, td {\n",
       "    padding: 5px;\n",
       "  }\n",
       "  th {\n",
       "    text-align: left;\n",
       "  }\n",
       "</style><div class='table-result-container'><table class='table-result'><thead style='background-color: white'><tr><th>path</th><th>name</th><th>size</th><th>modificationTime</th></tr></thead><tbody><tr><td>dbfs:/databricks-datasets/COVID/</td><td>COVID/</td><td>0</td><td>0</td></tr><tr><td>dbfs:/databricks-datasets/README.md</td><td>README.md</td><td>976</td><td>1532468253000</td></tr><tr><td>dbfs:/databricks-datasets/Rdatasets/</td><td>Rdatasets/</td><td>0</td><td>0</td></tr><tr><td>dbfs:/databricks-datasets/SPARK_README.md</td><td>SPARK_README.md</td><td>3359</td><td>1455043490000</td></tr><tr><td>dbfs:/databricks-datasets/adult/</td><td>adult/</td><td>0</td><td>0</td></tr><tr><td>dbfs:/databricks-datasets/airlines/</td><td>airlines/</td><td>0</td><td>0</td></tr><tr><td>dbfs:/databricks-datasets/amazon/</td><td>amazon/</td><td>0</td><td>0</td></tr><tr><td>dbfs:/databricks-datasets/asa/</td><td>asa/</td><td>0</td><td>0</td></tr><tr><td>dbfs:/databricks-datasets/atlas_higgs/</td><td>atlas_higgs/</td><td>0</td><td>0</td></tr><tr><td>dbfs:/databricks-datasets/bikeSharing/</td><td>bikeSharing/</td><td>0</td><td>0</td></tr><tr><td>dbfs:/databricks-datasets/cctvVideos/</td><td>cctvVideos/</td><td>0</td><td>0</td></tr><tr><td>dbfs:/databricks-datasets/credit-card-fraud/</td><td>credit-card-fraud/</td><td>0</td><td>0</td></tr><tr><td>dbfs:/databricks-datasets/cs100/</td><td>cs100/</td><td>0</td><td>0</td></tr><tr><td>dbfs:/databricks-datasets/cs110x/</td><td>cs110x/</td><td>0</td><td>0</td></tr><tr><td>dbfs:/databricks-datasets/cs190/</td><td>cs190/</td><td>0</td><td>0</td></tr><tr><td>dbfs:/databricks-datasets/data.gov/</td><td>data.gov/</td><td>0</td><td>0</td></tr><tr><td>dbfs:/databricks-datasets/definitive-guide/</td><td>definitive-guide/</td><td>0</td><td>0</td></tr><tr><td>dbfs:/databricks-datasets/delta-sharing/</td><td>delta-sharing/</td><td>0</td><td>0</td></tr><tr><td>dbfs:/databricks-datasets/flights/</td><td>flights/</td><td>0</td><td>0</td></tr><tr><td>dbfs:/databricks-datasets/flower_photos/</td><td>flower_photos/</td><td>0</td><td>0</td></tr><tr><td>dbfs:/databricks-datasets/flowers/</td><td>flowers/</td><td>0</td><td>0</td></tr><tr><td>dbfs:/databricks-datasets/genomics/</td><td>genomics/</td><td>0</td><td>0</td></tr><tr><td>dbfs:/databricks-datasets/hail/</td><td>hail/</td><td>0</td><td>0</td></tr><tr><td>dbfs:/databricks-datasets/identifying-campaign-effectiveness/</td><td>identifying-campaign-effectiveness/</td><td>0</td><td>0</td></tr><tr><td>dbfs:/databricks-datasets/iot/</td><td>iot/</td><td>0</td><td>0</td></tr><tr><td>dbfs:/databricks-datasets/iot-stream/</td><td>iot-stream/</td><td>0</td><td>0</td></tr><tr><td>dbfs:/databricks-datasets/learning-spark/</td><td>learning-spark/</td><td>0</td><td>0</td></tr><tr><td>dbfs:/databricks-datasets/learning-spark-v2/</td><td>learning-spark-v2/</td><td>0</td><td>0</td></tr><tr><td>dbfs:/databricks-datasets/lending-club-loan-stats/</td><td>lending-club-loan-stats/</td><td>0</td><td>0</td></tr><tr><td>dbfs:/databricks-datasets/med-images/</td><td>med-images/</td><td>0</td><td>0</td></tr><tr><td>dbfs:/databricks-datasets/media/</td><td>media/</td><td>0</td><td>0</td></tr><tr><td>dbfs:/databricks-datasets/mnist-digits/</td><td>mnist-digits/</td><td>0</td><td>0</td></tr><tr><td>dbfs:/databricks-datasets/news20.binary/</td><td>news20.binary/</td><td>0</td><td>0</td></tr><tr><td>dbfs:/databricks-datasets/nyctaxi/</td><td>nyctaxi/</td><td>0</td><td>0</td></tr><tr><td>dbfs:/databricks-datasets/nyctaxi-with-zipcodes/</td><td>nyctaxi-with-zipcodes/</td><td>0</td><td>0</td></tr><tr><td>dbfs:/databricks-datasets/online_retail/</td><td>online_retail/</td><td>0</td><td>0</td></tr><tr><td>dbfs:/databricks-datasets/overlap-join/</td><td>overlap-join/</td><td>0</td><td>0</td></tr><tr><td>dbfs:/databricks-datasets/power-plant/</td><td>power-plant/</td><td>0</td><td>0</td></tr><tr><td>dbfs:/databricks-datasets/retail-org/</td><td>retail-org/</td><td>0</td><td>0</td></tr><tr><td>dbfs:/databricks-datasets/rwe/</td><td>rwe/</td><td>0</td><td>0</td></tr><tr><td>dbfs:/databricks-datasets/sai-summit-2019-sf/</td><td>sai-summit-2019-sf/</td><td>0</td><td>0</td></tr><tr><td>dbfs:/databricks-datasets/sample_logs/</td><td>sample_logs/</td><td>0</td><td>0</td></tr><tr><td>dbfs:/databricks-datasets/samples/</td><td>samples/</td><td>0</td><td>0</td></tr><tr><td>dbfs:/databricks-datasets/sfo_customer_survey/</td><td>sfo_customer_survey/</td><td>0</td><td>0</td></tr><tr><td>dbfs:/databricks-datasets/sms_spam_collection/</td><td>sms_spam_collection/</td><td>0</td><td>0</td></tr><tr><td>dbfs:/databricks-datasets/songs/</td><td>songs/</td><td>0</td><td>0</td></tr><tr><td>dbfs:/databricks-datasets/structured-streaming/</td><td>structured-streaming/</td><td>0</td><td>0</td></tr><tr><td>dbfs:/databricks-datasets/timeseries/</td><td>timeseries/</td><td>0</td><td>0</td></tr><tr><td>dbfs:/databricks-datasets/tpch/</td><td>tpch/</td><td>0</td><td>0</td></tr><tr><td>dbfs:/databricks-datasets/travel_recommendations_realtime/</td><td>travel_recommendations_realtime/</td><td>0</td><td>0</td></tr><tr><td>dbfs:/databricks-datasets/warmup/</td><td>warmup/</td><td>0</td><td>0</td></tr><tr><td>dbfs:/databricks-datasets/weather/</td><td>weather/</td><td>0</td><td>0</td></tr><tr><td>dbfs:/databricks-datasets/wiki/</td><td>wiki/</td><td>0</td><td>0</td></tr><tr><td>dbfs:/databricks-datasets/wikipedia-datasets/</td><td>wikipedia-datasets/</td><td>0</td><td>0</td></tr><tr><td>dbfs:/databricks-datasets/wine-quality/</td><td>wine-quality/</td><td>0</td><td>0</td></tr></tbody></table></div>"
      ]
     },
     "metadata": {
      "application/vnd.databricks.v1+output": {
       "addedWidgets": {},
       "aggData": [],
       "aggError": "",
       "aggOverflow": false,
       "aggSchema": [],
       "aggSeriesLimitReached": false,
       "aggType": "",
       "arguments": {},
       "columnCustomDisplayInfos": {},
       "data": [
        [
         "dbfs:/databricks-datasets/COVID/",
         "COVID/",
         0,
         0
        ],
        [
         "dbfs:/databricks-datasets/README.md",
         "README.md",
         976,
         1532468253000
        ],
        [
         "dbfs:/databricks-datasets/Rdatasets/",
         "Rdatasets/",
         0,
         0
        ],
        [
         "dbfs:/databricks-datasets/SPARK_README.md",
         "SPARK_README.md",
         3359,
         1455043490000
        ],
        [
         "dbfs:/databricks-datasets/adult/",
         "adult/",
         0,
         0
        ],
        [
         "dbfs:/databricks-datasets/airlines/",
         "airlines/",
         0,
         0
        ],
        [
         "dbfs:/databricks-datasets/amazon/",
         "amazon/",
         0,
         0
        ],
        [
         "dbfs:/databricks-datasets/asa/",
         "asa/",
         0,
         0
        ],
        [
         "dbfs:/databricks-datasets/atlas_higgs/",
         "atlas_higgs/",
         0,
         0
        ],
        [
         "dbfs:/databricks-datasets/bikeSharing/",
         "bikeSharing/",
         0,
         0
        ],
        [
         "dbfs:/databricks-datasets/cctvVideos/",
         "cctvVideos/",
         0,
         0
        ],
        [
         "dbfs:/databricks-datasets/credit-card-fraud/",
         "credit-card-fraud/",
         0,
         0
        ],
        [
         "dbfs:/databricks-datasets/cs100/",
         "cs100/",
         0,
         0
        ],
        [
         "dbfs:/databricks-datasets/cs110x/",
         "cs110x/",
         0,
         0
        ],
        [
         "dbfs:/databricks-datasets/cs190/",
         "cs190/",
         0,
         0
        ],
        [
         "dbfs:/databricks-datasets/data.gov/",
         "data.gov/",
         0,
         0
        ],
        [
         "dbfs:/databricks-datasets/definitive-guide/",
         "definitive-guide/",
         0,
         0
        ],
        [
         "dbfs:/databricks-datasets/delta-sharing/",
         "delta-sharing/",
         0,
         0
        ],
        [
         "dbfs:/databricks-datasets/flights/",
         "flights/",
         0,
         0
        ],
        [
         "dbfs:/databricks-datasets/flower_photos/",
         "flower_photos/",
         0,
         0
        ],
        [
         "dbfs:/databricks-datasets/flowers/",
         "flowers/",
         0,
         0
        ],
        [
         "dbfs:/databricks-datasets/genomics/",
         "genomics/",
         0,
         0
        ],
        [
         "dbfs:/databricks-datasets/hail/",
         "hail/",
         0,
         0
        ],
        [
         "dbfs:/databricks-datasets/identifying-campaign-effectiveness/",
         "identifying-campaign-effectiveness/",
         0,
         0
        ],
        [
         "dbfs:/databricks-datasets/iot/",
         "iot/",
         0,
         0
        ],
        [
         "dbfs:/databricks-datasets/iot-stream/",
         "iot-stream/",
         0,
         0
        ],
        [
         "dbfs:/databricks-datasets/learning-spark/",
         "learning-spark/",
         0,
         0
        ],
        [
         "dbfs:/databricks-datasets/learning-spark-v2/",
         "learning-spark-v2/",
         0,
         0
        ],
        [
         "dbfs:/databricks-datasets/lending-club-loan-stats/",
         "lending-club-loan-stats/",
         0,
         0
        ],
        [
         "dbfs:/databricks-datasets/med-images/",
         "med-images/",
         0,
         0
        ],
        [
         "dbfs:/databricks-datasets/media/",
         "media/",
         0,
         0
        ],
        [
         "dbfs:/databricks-datasets/mnist-digits/",
         "mnist-digits/",
         0,
         0
        ],
        [
         "dbfs:/databricks-datasets/news20.binary/",
         "news20.binary/",
         0,
         0
        ],
        [
         "dbfs:/databricks-datasets/nyctaxi/",
         "nyctaxi/",
         0,
         0
        ],
        [
         "dbfs:/databricks-datasets/nyctaxi-with-zipcodes/",
         "nyctaxi-with-zipcodes/",
         0,
         0
        ],
        [
         "dbfs:/databricks-datasets/online_retail/",
         "online_retail/",
         0,
         0
        ],
        [
         "dbfs:/databricks-datasets/overlap-join/",
         "overlap-join/",
         0,
         0
        ],
        [
         "dbfs:/databricks-datasets/power-plant/",
         "power-plant/",
         0,
         0
        ],
        [
         "dbfs:/databricks-datasets/retail-org/",
         "retail-org/",
         0,
         0
        ],
        [
         "dbfs:/databricks-datasets/rwe/",
         "rwe/",
         0,
         0
        ],
        [
         "dbfs:/databricks-datasets/sai-summit-2019-sf/",
         "sai-summit-2019-sf/",
         0,
         0
        ],
        [
         "dbfs:/databricks-datasets/sample_logs/",
         "sample_logs/",
         0,
         0
        ],
        [
         "dbfs:/databricks-datasets/samples/",
         "samples/",
         0,
         0
        ],
        [
         "dbfs:/databricks-datasets/sfo_customer_survey/",
         "sfo_customer_survey/",
         0,
         0
        ],
        [
         "dbfs:/databricks-datasets/sms_spam_collection/",
         "sms_spam_collection/",
         0,
         0
        ],
        [
         "dbfs:/databricks-datasets/songs/",
         "songs/",
         0,
         0
        ],
        [
         "dbfs:/databricks-datasets/structured-streaming/",
         "structured-streaming/",
         0,
         0
        ],
        [
         "dbfs:/databricks-datasets/timeseries/",
         "timeseries/",
         0,
         0
        ],
        [
         "dbfs:/databricks-datasets/tpch/",
         "tpch/",
         0,
         0
        ],
        [
         "dbfs:/databricks-datasets/travel_recommendations_realtime/",
         "travel_recommendations_realtime/",
         0,
         0
        ],
        [
         "dbfs:/databricks-datasets/warmup/",
         "warmup/",
         0,
         0
        ],
        [
         "dbfs:/databricks-datasets/weather/",
         "weather/",
         0,
         0
        ],
        [
         "dbfs:/databricks-datasets/wiki/",
         "wiki/",
         0,
         0
        ],
        [
         "dbfs:/databricks-datasets/wikipedia-datasets/",
         "wikipedia-datasets/",
         0,
         0
        ],
        [
         "dbfs:/databricks-datasets/wine-quality/",
         "wine-quality/",
         0,
         0
        ]
       ],
       "datasetInfos": [],
       "dbfsResultPath": null,
       "isJsonSchema": true,
       "metadata": {},
       "overflow": false,
       "plotOptions": {
        "customPlotOptions": {},
        "displayType": "table",
        "pivotAggregation": null,
        "pivotColumns": null,
        "xColumns": null,
        "yColumns": null
       },
       "removedWidgets": [],
       "schema": [
        {
         "metadata": "{}",
         "name": "path",
         "type": "\"string\""
        },
        {
         "metadata": "{}",
         "name": "name",
         "type": "\"string\""
        },
        {
         "metadata": "{}",
         "name": "size",
         "type": "\"long\""
        },
        {
         "metadata": "{}",
         "name": "modificationTime",
         "type": "\"long\""
        }
       ],
       "type": "table"
      }
     },
     "output_type": "display_data"
    }
   ],
   "source": [
    "# visualizando datasets de exemplos da databricks \n",
    "display(dbutils.fs.ls(\"/databricks-datasets\"))"
   ]
  },
  {
   "cell_type": "code",
   "execution_count": 0,
   "metadata": {
    "application/vnd.databricks.v1+cell": {
     "cellMetadata": {
      "byteLimit": 2048000,
      "rowLimit": 10000
     },
     "inputWidgets": {},
     "nuid": "98b7cbb0-8aed-40af-ab07-76dc769c7b23",
     "showTitle": false,
     "tableResultSettingsMap": {},
     "title": ""
    }
   },
   "outputs": [],
   "source": [
    "# Lendo arquivos de dados \n",
    "arquivo = \"dbfs:/databricks-datasets/flights/\""
   ]
  },
  {
   "cell_type": "code",
   "execution_count": 0,
   "metadata": {
    "application/vnd.databricks.v1+cell": {
     "cellMetadata": {
      "byteLimit": 2048000,
      "rowLimit": 10000
     },
     "inputWidgets": {},
     "nuid": "b88977bd-121b-46b2-bc57-da5bbe7f203c",
     "showTitle": false,
     "tableResultSettingsMap": {},
     "title": ""
    }
   },
   "outputs": [],
   "source": [
    "# Lendo o arquivo de dados\n",
    "# inferSchema=True: Inferir automaticamente os tipos de dados das colunas\n",
    "# header=True: Indica que o arquivo CSV possui cabeçalho\n",
    "\n",
    "df = spark.read.format(\"csv\") \\\n",
    "    .option(\"inferSchema\", \"true\") \\\n",
    "    .option(\"header\", \"true\") \\\n",
    "    .load(arquivo)\n"
   ]
  },
  {
   "cell_type": "code",
   "execution_count": 0,
   "metadata": {
    "application/vnd.databricks.v1+cell": {
     "cellMetadata": {
      "byteLimit": 2048000,
      "rowLimit": 10000
     },
     "inputWidgets": {},
     "nuid": "f14aa6bc-e17e-44af-85cd-aaa45d77553a",
     "showTitle": false,
     "tableResultSettingsMap": {},
     "title": ""
    }
   },
   "outputs": [
    {
     "name": "stdout",
     "output_type": "stream",
     "text": [
      "root\n",
      " |-- date: string (nullable = true)\n",
      " |-- delay: string (nullable = true)\n",
      " |-- distance: string (nullable = true)\n",
      " |-- origin: string (nullable = true)\n",
      " |-- destination: string (nullable = true)\n",
      "\n"
     ]
    }
   ],
   "source": [
    "# Imprimir os datatypes das colunas do dataframe \n",
    "df.printSchema()"
   ]
  },
  {
   "cell_type": "code",
   "execution_count": 0,
   "metadata": {
    "application/vnd.databricks.v1+cell": {
     "cellMetadata": {
      "byteLimit": 2048000,
      "rowLimit": 10000
     },
     "inputWidgets": {},
     "nuid": "b3265860-447d-4443-a708-307efdba8687",
     "showTitle": false,
     "tableResultSettingsMap": {},
     "title": ""
    }
   },
   "outputs": [
    {
     "name": "stdout",
     "output_type": "stream",
     "text": [
      "Out[10]: pyspark.sql.dataframe.DataFrame"
     ]
    }
   ],
   "source": [
    "#Imprime o tipo do objeto 'df'\n",
    "type(df)"
   ]
  },
  {
   "cell_type": "code",
   "execution_count": 0,
   "metadata": {
    "application/vnd.databricks.v1+cell": {
     "cellMetadata": {
      "byteLimit": 2048000,
      "rowLimit": 10000
     },
     "inputWidgets": {},
     "nuid": "1c19d8ad-312e-4a24-b640-a3e973caeb85",
     "showTitle": false,
     "tableResultSettingsMap": {},
     "title": ""
    }
   },
   "outputs": [
    {
     "name": "stdout",
     "output_type": "stream",
     "text": [
      "Out[11]: [Row(date='01011245', delay='6', distance='602', origin='ABE', destination='ATL'),\n",
      " Row(date='01020600', delay='-8', distance='369', origin='ABE', destination='DTW'),\n",
      " Row(date='01021245', delay='-2', distance='602', origin='ABE', destination='ATL'),\n",
      " Row(date='01020605', delay='-4', distance='602', origin='ABE', destination='ATL'),\n",
      " Row(date='01031245', delay='-4', distance='602', origin='ABE', destination='ATL')]"
     ]
    }
   ],
   "source": [
    "# retorna as primeiras 5 linhas  do dataframe  em formato de array \n",
    "df.take(5)"
   ]
  },
  {
   "cell_type": "code",
   "execution_count": 0,
   "metadata": {
    "application/vnd.databricks.v1+cell": {
     "cellMetadata": {
      "byteLimit": 2048000,
      "rowLimit": 10000
     },
     "inputWidgets": {},
     "nuid": "b4032adc-61cf-44ec-ab52-08e8e7bea1ef",
     "showTitle": false,
     "tableResultSettingsMap": {},
     "title": ""
    }
   },
   "outputs": [
    {
     "name": "stdout",
     "output_type": "stream",
     "text": [
      "+--------+-----+--------+------+-----------+\n",
      "|    date|delay|distance|origin|destination|\n",
      "+--------+-----+--------+------+-----------+\n",
      "|01011245|    6|     602|   ABE|        ATL|\n",
      "|01020600|   -8|     369|   ABE|        DTW|\n",
      "|01021245|   -2|     602|   ABE|        ATL|\n",
      "+--------+-----+--------+------+-----------+\n",
      "only showing top 3 rows\n",
      "\n"
     ]
    }
   ],
   "source": [
    "#usando o comando display \n",
    "display(df.show(3))"
   ]
  },
  {
   "cell_type": "code",
   "execution_count": 0,
   "metadata": {
    "application/vnd.databricks.v1+cell": {
     "cellMetadata": {
      "byteLimit": 2048000,
      "rowLimit": 10000
     },
     "inputWidgets": {},
     "nuid": "8bf727f6-828d-4e73-acb6-8f5e61dbc111",
     "showTitle": false,
     "tableResultSettingsMap": {},
     "title": ""
    }
   },
   "outputs": [
    {
     "name": "stdout",
     "output_type": "stream",
     "text": [
      "Out[13]: 1392106"
     ]
    }
   ],
   "source": [
    "# Imprime a quantidade de linhas do Dataframe \n",
    "df.count()"
   ]
  },
  {
   "cell_type": "markdown",
   "metadata": {
    "application/vnd.databricks.v1+cell": {
     "cellMetadata": {},
     "inputWidgets": {},
     "nuid": "bb46e7d9-b08d-4ae3-aa6d-a5a9e51f4f21",
     "showTitle": false,
     "tableResultSettingsMap": {},
     "title": ""
    }
   },
   "source": [
    "Colsultando dados do dataframe "
   ]
  },
  {
   "cell_type": "code",
   "execution_count": 0,
   "metadata": {
    "application/vnd.databricks.v1+cell": {
     "cellMetadata": {
      "byteLimit": 2048000,
      "rowLimit": 10000
     },
     "inputWidgets": {},
     "nuid": "4e21ed50-e514-4b31-991e-6c1f676b30de",
     "showTitle": false,
     "tableResultSettingsMap": {},
     "title": ""
    }
   },
   "outputs": [
    {
     "name": "stdout",
     "output_type": "stream",
     "text": [
      "Out[14]: [Row(max(delay)='995')]"
     ]
    }
   ],
   "source": [
    "from pyspark.sql.functions import max \n",
    "df.select(max(\"delay\")).take(1)"
   ]
  },
  {
   "cell_type": "code",
   "execution_count": 0,
   "metadata": {
    "application/vnd.databricks.v1+cell": {
     "cellMetadata": {
      "byteLimit": 2048000,
      "rowLimit": 10000
     },
     "inputWidgets": {},
     "nuid": "e98b851c-b1ed-49af-b67a-7807d26ab843",
     "showTitle": false,
     "tableResultSettingsMap": {},
     "title": ""
    }
   },
   "outputs": [
    {
     "name": "stdout",
     "output_type": "stream",
     "text": [
      "+--------+-----+--------+------+-----------+\n",
      "|    date|delay|distance|origin|destination|\n",
      "+--------+-----+--------+------+-----------+\n",
      "|01020600|   -8|     369|   ABE|        DTW|\n",
      "|01021245|   -2|     602|   ABE|        ATL|\n",
      "+--------+-----+--------+------+-----------+\n",
      "only showing top 2 rows\n",
      "\n"
     ]
    }
   ],
   "source": [
    "# Filtro de linhas de um Dataframe \n",
    "df.filter(\"delay <2 \").show(2)"
   ]
  },
  {
   "cell_type": "code",
   "execution_count": 0,
   "metadata": {
    "application/vnd.databricks.v1+cell": {
     "cellMetadata": {
      "byteLimit": 2048000,
      "rowLimit": 10000
     },
     "inputWidgets": {},
     "nuid": "a53b6f72-486c-4a5b-86c2-dda5dffd42d4",
     "showTitle": false,
     "tableResultSettingsMap": {},
     "title": ""
    }
   },
   "outputs": [
    {
     "name": "stdout",
     "output_type": "stream",
     "text": [
      "+--------+-----+--------+------+-----------+\n",
      "|    date|delay|distance|origin|destination|\n",
      "+--------+-----+--------+------+-----------+\n",
      "|01020600|   -8|     369|   ABE|        DTW|\n",
      "|01021245|   -2|     602|   ABE|        ATL|\n",
      "|01020605|   -4|     602|   ABE|        ATL|\n",
      "|01031245|   -4|     602|   ABE|        ATL|\n",
      "|01030605|    0|     602|   ABE|        ATL|\n",
      "+--------+-----+--------+------+-----------+\n",
      "only showing top 5 rows\n",
      "\n"
     ]
    }
   ],
   "source": [
    "# usando where (um alias para o metodo filter)\n",
    "df.where(\"delay<2\").show(5)"
   ]
  },
  {
   "cell_type": "code",
   "execution_count": 0,
   "metadata": {
    "application/vnd.databricks.v1+cell": {
     "cellMetadata": {
      "byteLimit": 2048000,
      "rowLimit": 10000
     },
     "inputWidgets": {},
     "nuid": "99ed5d6c-2425-4d59-a0f1-c23dcf6e339d",
     "showTitle": false,
     "tableResultSettingsMap": {},
     "title": ""
    }
   },
   "outputs": [
    {
     "name": "stdout",
     "output_type": "stream",
     "text": [
      "+--------------------+-----+--------+------+-----------+\n",
      "|                date|delay|distance|origin|destination|\n",
      "+--------------------+-----+--------+------+-----------+\n",
      "|Abbotsford\\tBC\\tC...| null|    null|  null|       null|\n",
      "|Aberdeen\\tSD\\tUSA...| null|    null|  null|       null|\n",
      "|Abilene\\tTX\\tUSA\\...| null|    null|  null|       null|\n",
      "| Akron\\tOH\\tUSA\\tCAK| null|    null|  null|       null|\n",
      "+--------------------+-----+--------+------+-----------+\n",
      "only showing top 4 rows\n",
      "\n"
     ]
    }
   ],
   "source": [
    "# ordena o dataframe pela coluna delay\n",
    "df.sort(\"delay\").show(4)"
   ]
  },
  {
   "cell_type": "code",
   "execution_count": 0,
   "metadata": {
    "application/vnd.databricks.v1+cell": {
     "cellMetadata": {
      "byteLimit": 2048000,
      "rowLimit": 10000
     },
     "inputWidgets": {},
     "nuid": "34c83204-ca78-4b29-93fe-9d8138b8c1fb",
     "showTitle": false,
     "tableResultSettingsMap": {},
     "title": ""
    }
   },
   "outputs": [
    {
     "name": "stdout",
     "output_type": "stream",
     "text": [
      "+--------------------+-----+--------+------+-----------+\n",
      "|                date|delay|distance|origin|destination|\n",
      "+--------------------+-----+--------+------+-----------+\n",
      "|Abbotsford\\tBC\\tC...| null|    null|  null|       null|\n",
      "|Aberdeen\\tSD\\tUSA...| null|    null|  null|       null|\n",
      "|Abilene\\tTX\\tUSA\\...| null|    null|  null|       null|\n",
      "| Akron\\tOH\\tUSA\\tCAK| null|    null|  null|       null|\n",
      "|Alamosa\\tCO\\tUSA\\...| null|    null|  null|       null|\n",
      "+--------------------+-----+--------+------+-----------+\n",
      "only showing top 5 rows\n",
      "\n"
     ]
    }
   ],
   "source": [
    "from pyspark.sql.functions import desc, asc,expr \n",
    "#ordenando por ordem crescente \n",
    "df.orderBy(expr(\"delay desc\")).show(5)"
   ]
  },
  {
   "cell_type": "code",
   "execution_count": 0,
   "metadata": {
    "application/vnd.databricks.v1+cell": {
     "cellMetadata": {
      "byteLimit": 2048000,
      "rowLimit": 10000
     },
     "inputWidgets": {},
     "nuid": "b33b8460-34f7-43a9-8ab8-63e77a1f1c9c",
     "showTitle": false,
     "tableResultSettingsMap": {},
     "title": ""
    }
   },
   "outputs": [
    {
     "name": "stdout",
     "output_type": "stream",
     "text": [
      "+-------+--------------------+--------------------+--------------------+-------+-----------+\n",
      "|summary|                date|               delay|            distance| origin|destination|\n",
      "+-------+--------------------+--------------------+--------------------+-------+-----------+\n",
      "|  count|             1392106|             1391580|             1391579|1391578|    1391578|\n",
      "|   mean|   2180446.584000322|  12.079802928761449|   690.5508264718184|   null|       null|\n",
      "| stddev|   838031.1536741031|   38.80773374985648|    513.662815366331|   null|       null|\n",
      "|    min|\"Cap-aux-Meules, ...| airline and rout...| dataset can be f...|    ABE|        ABE|\n",
      "|    max|  Yuma\\tAZ\\tUSA\\tYUM|                 995|                 999|    YUM|        YUM|\n",
      "+-------+--------------------+--------------------+--------------------+-------+-----------+\n",
      "\n"
     ]
    }
   ],
   "source": [
    "# visualizando estatísticas das descritivas \n",
    "df.describe().show()"
   ]
  },
  {
   "cell_type": "code",
   "execution_count": 0,
   "metadata": {
    "application/vnd.databricks.v1+cell": {
     "cellMetadata": {
      "byteLimit": 2048000,
      "rowLimit": 10000
     },
     "inputWidgets": {},
     "nuid": "b2791cd4-7f74-41f1-8d67-7ec8661a08db",
     "showTitle": false,
     "tableResultSettingsMap": {},
     "title": ""
    }
   },
   "outputs": [
    {
     "name": "stdout",
     "output_type": "stream",
     "text": [
      "Row(date='01011245', delay='6', distance='602', origin='ABE', destination='ATL')\n",
      "01011245 66\n",
      "Row(date='01020600', delay='-8', distance='369', origin='ABE', destination='DTW')\n",
      "01020600 -8-8\n",
      "Row(date='01021245', delay='-2', distance='602', origin='ABE', destination='ATL')\n",
      "01021245 -2-2\n",
      "Row(date='01020605', delay='-4', distance='602', origin='ABE', destination='ATL')\n",
      "01020605 -4-4\n",
      "Row(date='01031245', delay='-4', distance='602', origin='ABE', destination='ATL')\n",
      "01031245 -4-4\n",
      "Row(date='01030605', delay='0', distance='602', origin='ABE', destination='ATL')\n",
      "01030605 00\n",
      "Row(date='01041243', delay='10', distance='602', origin='ABE', destination='ATL')\n",
      "01041243 1010\n",
      "Row(date='01040605', delay='28', distance='602', origin='ABE', destination='ATL')\n",
      "01040605 2828\n",
      "Row(date='01051245', delay='88', distance='602', origin='ABE', destination='ATL')\n",
      "01051245 8888\n",
      "Row(date='01050605', delay='9', distance='602', origin='ABE', destination='ATL')\n",
      "01050605 99\n",
      "Row(date='01061215', delay='-6', distance='602', origin='ABE', destination='ATL')\n",
      "01061215 -6-6\n",
      "Row(date='01061725', delay='69', distance='602', origin='ABE', destination='ATL')\n",
      "01061725 6969\n",
      "Row(date='01061230', delay='0', distance='369', origin='ABE', destination='DTW')\n",
      "01061230 00\n",
      "Row(date='01060625', delay='-3', distance='602', origin='ABE', destination='ATL')\n",
      "01060625 -3-3\n",
      "Row(date='01070600', delay='0', distance='369', origin='ABE', destination='DTW')\n",
      "01070600 00\n",
      "Row(date='01071725', delay='0', distance='602', origin='ABE', destination='ATL')\n",
      "01071725 00\n",
      "Row(date='01071230', delay='0', distance='369', origin='ABE', destination='DTW')\n",
      "01071230 00\n",
      "Row(date='01070625', delay='0', distance='602', origin='ABE', destination='ATL')\n",
      "01070625 00\n",
      "Row(date='01071219', delay='0', distance='569', origin='ABE', destination='ORD')\n",
      "01071219 00\n",
      "Row(date='01080600', delay='0', distance='369', origin='ABE', destination='DTW')\n",
      "01080600 00\n",
      "Row(date='01081230', delay='33', distance='369', origin='ABE', destination='DTW')\n",
      "01081230 3333\n",
      "Row(date='01080625', delay='1', distance='602', origin='ABE', destination='ATL')\n",
      "01080625 11\n",
      "Row(date='01080607', delay='5', distance='569', origin='ABE', destination='ORD')\n",
      "01080607 55\n",
      "Row(date='01081219', delay='54', distance='569', origin='ABE', destination='ORD')\n",
      "01081219 5454\n",
      "Row(date='01091215', delay='43', distance='602', origin='ABE', destination='ATL')\n",
      "01091215 4343\n",
      "Row(date='01090600', delay='151', distance='369', origin='ABE', destination='DTW')\n",
      "01090600 151151\n",
      "Row(date='01091725', delay='0', distance='602', origin='ABE', destination='ATL')\n",
      "01091725 00\n",
      "Row(date='01091230', delay='-4', distance='369', origin='ABE', destination='DTW')\n",
      "01091230 -4-4\n",
      "Row(date='01090625', delay='8', distance='602', origin='ABE', destination='ATL')\n",
      "01090625 88\n",
      "Row(date='01091219', delay='83', distance='569', origin='ABE', destination='ORD')\n",
      "01091219 8383\n",
      "Row(date='01101215', delay='-5', distance='602', origin='ABE', destination='ATL')\n",
      "01101215 -5-5\n",
      "Row(date='01100600', delay='-5', distance='369', origin='ABE', destination='DTW')\n",
      "01100600 -5-5\n",
      "Row(date='01101725', delay='7', distance='602', origin='ABE', destination='ATL')\n",
      "01101725 77\n",
      "Row(date='01101230', delay='-8', distance='369', origin='ABE', destination='DTW')\n",
      "01101230 -8-8\n",
      "Row(date='01100625', delay='52', distance='602', origin='ABE', destination='ATL')\n",
      "01100625 5252\n",
      "Row(date='01101219', delay='0', distance='569', origin='ABE', destination='ORD')\n",
      "01101219 00\n",
      "Row(date='01111215', delay='127', distance='602', origin='ABE', destination='ATL')\n",
      "01111215 127127\n",
      "Row(date='01110600', delay='-9', distance='369', origin='ABE', destination='DTW')\n",
      "01110600 -9-9\n",
      "Row(date='01110625', delay='-4', distance='602', origin='ABE', destination='ATL')\n",
      "01110625 -4-4\n",
      "Row(date='01121215', delay='-5', distance='602', origin='ABE', destination='ATL')\n",
      "01121215 -5-5\n",
      "Row(date='01121725', delay='-1', distance='602', origin='ABE', destination='ATL')\n",
      "01121725 -1-1\n",
      "Row(date='01131215', delay='14', distance='602', origin='ABE', destination='ATL')\n",
      "01131215 1414\n",
      "Row(date='01130600', delay='-7', distance='369', origin='ABE', destination='DTW')\n",
      "01130600 -7-7\n",
      "Row(date='01131725', delay='-6', distance='602', origin='ABE', destination='ATL')\n",
      "01131725 -6-6\n",
      "Row(date='01131230', delay='-13', distance='369', origin='ABE', destination='DTW')\n",
      "01131230 -13-13\n",
      "Row(date='01130625', delay='29', distance='602', origin='ABE', destination='ATL')\n",
      "01130625 2929\n",
      "Row(date='01131219', delay='-8', distance='569', origin='ABE', destination='ORD')\n",
      "01131219 -8-8\n",
      "Row(date='01140600', delay='-9', distance='369', origin='ABE', destination='DTW')\n",
      "01140600 -9-9\n",
      "Row(date='01141725', delay='-9', distance='602', origin='ABE', destination='ATL')\n",
      "01141725 -9-9\n",
      "Row(date='01141230', delay='-8', distance='369', origin='ABE', destination='DTW')\n",
      "01141230 -8-8\n",
      "Row(date='01140625', delay='-5', distance='602', origin='ABE', destination='ATL')\n",
      "01140625 -5-5\n",
      "Row(date='01141219', delay='-10', distance='569', origin='ABE', destination='ORD')\n",
      "01141219 -10-10\n",
      "Row(date='01150600', delay='0', distance='369', origin='ABE', destination='DTW')\n",
      "01150600 00\n",
      "Row(date='01151725', delay='-6', distance='602', origin='ABE', destination='ATL')\n",
      "01151725 -6-6\n",
      "Row(date='01151230', delay='0', distance='369', origin='ABE', destination='DTW')\n",
      "01151230 00\n",
      "Row(date='01150625', delay='0', distance='602', origin='ABE', destination='ATL')\n",
      "01150625 00\n",
      "Row(date='01150607', delay='0', distance='569', origin='ABE', destination='ORD')\n",
      "01150607 00\n",
      "Row(date='01151219', delay='0', distance='569', origin='ABE', destination='ORD')\n",
      "01151219 00\n",
      "Row(date='01161215', delay='-10', distance='602', origin='ABE', destination='ATL')\n",
      "01161215 -10-10\n",
      "Row(date='01160600', delay='-1', distance='369', origin='ABE', destination='DTW')\n",
      "01160600 -1-1\n",
      "Row(date='01161725', delay='-6', distance='602', origin='ABE', destination='ATL')\n",
      "01161725 -6-6\n",
      "Row(date='01161230', delay='-7', distance='369', origin='ABE', destination='DTW')\n",
      "01161230 -7-7\n",
      "Row(date='01160625', delay='-4', distance='602', origin='ABE', destination='ATL')\n",
      "01160625 -4-4\n",
      "Row(date='01161219', delay='68', distance='569', origin='ABE', destination='ORD')\n",
      "01161219 6868\n",
      "Row(date='01171215', delay='-8', distance='602', origin='ABE', destination='ATL')\n",
      "01171215 -8-8\n",
      "Row(date='01170600', delay='-5', distance='369', origin='ABE', destination='DTW')\n",
      "01170600 -5-5\n",
      "Row(date='01171725', delay='5', distance='602', origin='ABE', destination='ATL')\n",
      "01171725 55\n",
      "Row(date='01171230', delay='-10', distance='369', origin='ABE', destination='DTW')\n",
      "01171230 -10-10\n",
      "Row(date='01170625', delay='-6', distance='602', origin='ABE', destination='ATL')\n",
      "01170625 -6-6\n",
      "Row(date='01171219', delay='-10', distance='569', origin='ABE', destination='ORD')\n",
      "01171219 -10-10\n",
      "Row(date='01181215', delay='-12', distance='602', origin='ABE', destination='ATL')\n",
      "01181215 -12-12\n",
      "Row(date='01180600', delay='-13', distance='369', origin='ABE', destination='DTW')\n",
      "01180600 -13-13\n",
      "Row(date='01180625', delay='0', distance='602', origin='ABE', destination='ATL')\n",
      "01180625 00\n",
      "Row(date='01191215', delay='-16', distance='602', origin='ABE', destination='ATL')\n",
      "01191215 -16-16\n",
      "Row(date='01191725', delay='-5', distance='602', origin='ABE', destination='ATL')\n",
      "01191725 -5-5\n",
      "Row(date='01201215', delay='-8', distance='602', origin='ABE', destination='ATL')\n",
      "01201215 -8-8\n",
      "Row(date='01201725', delay='-5', distance='602', origin='ABE', destination='ATL')\n",
      "01201725 -5-5\n",
      "Row(date='01201230', delay='-11', distance='369', origin='ABE', destination='DTW')\n",
      "01201230 -11-11\n",
      "Row(date='01200625', delay='-7', distance='602', origin='ABE', destination='ATL')\n",
      "01200625 -7-7\n",
      "Row(date='01201219', delay='-6', distance='569', origin='ABE', destination='ORD')\n",
      "01201219 -6-6\n",
      "Row(date='01210600', delay='89', distance='369', origin='ABE', destination='DTW')\n",
      "01210600 8989\n",
      "Row(date='01211725', delay='0', distance='602', origin='ABE', destination='ATL')\n",
      "01211725 00\n",
      "Row(date='01211230', delay='44', distance='369', origin='ABE', destination='DTW')\n",
      "01211230 4444\n",
      "Row(date='01210625', delay='-6', distance='602', origin='ABE', destination='ATL')\n",
      "01210625 -6-6\n",
      "Row(date='01211219', delay='9', distance='569', origin='ABE', destination='ORD')\n",
      "01211219 99\n",
      "Row(date='01220600', delay='80', distance='369', origin='ABE', destination='DTW')\n",
      "01220600 8080\n",
      "Row(date='01221230', delay='-5', distance='369', origin='ABE', destination='DTW')\n",
      "01221230 -5-5\n",
      "Row(date='01220625', delay='333', distance='602', origin='ABE', destination='ATL')\n",
      "01220625 333333\n",
      "Row(date='01220607', delay='219', distance='569', origin='ABE', destination='ORD')\n",
      "01220607 219219\n",
      "Row(date='01221219', delay='15', distance='569', origin='ABE', destination='ORD')\n",
      "01221219 1515\n",
      "Row(date='01231215', delay='-12', distance='602', origin='ABE', destination='ATL')\n",
      "01231215 -12-12\n",
      "Row(date='01230600', delay='-3', distance='369', origin='ABE', destination='DTW')\n",
      "01230600 -3-3\n",
      "Row(date='01231725', delay='180', distance='602', origin='ABE', destination='ATL')\n",
      "01231725 180180\n",
      "Row(date='01231230', delay='-5', distance='369', origin='ABE', destination='DTW')\n",
      "01231230 -5-5\n",
      "Row(date='01230625', delay='-8', distance='602', origin='ABE', destination='ATL')\n",
      "01230625 -8-8\n",
      "Row(date='01231219', delay='-13', distance='569', origin='ABE', destination='ORD')\n",
      "01231219 -13-13\n",
      "Row(date='01241215', delay='-11', distance='602', origin='ABE', destination='ATL')\n",
      "01241215 -11-11\n",
      "Row(date='01240600', delay='-3', distance='369', origin='ABE', destination='DTW')\n",
      "01240600 -3-3\n",
      "Row(date='01241725', delay='2', distance='602', origin='ABE', destination='ATL')\n",
      "01241725 22\n",
      "Row(date='01241230', delay='-5', distance='369', origin='ABE', destination='DTW')\n",
      "01241230 -5-5\n",
      "Row(date='01240625', delay='-3', distance='602', origin='ABE', destination='ATL')\n",
      "01240625 -3-3\n",
      "Row(date='01241219', delay='0', distance='569', origin='ABE', destination='ORD')\n",
      "01241219 00\n",
      "Row(date='01251215', delay='2', distance='602', origin='ABE', destination='ATL')\n",
      "01251215 22\n",
      "Row(date='01250600', delay='-4', distance='369', origin='ABE', destination='DTW')\n",
      "01250600 -4-4\n",
      "Row(date='01250625', delay='-4', distance='602', origin='ABE', destination='ATL')\n",
      "01250625 -4-4\n",
      "Row(date='01261215', delay='1', distance='602', origin='ABE', destination='ATL')\n",
      "01261215 11\n",
      "Row(date='01261725', delay='7', distance='602', origin='ABE', destination='ATL')\n",
      "01261725 77\n",
      "Row(date='01271215', delay='-4', distance='602', origin='ABE', destination='ATL')\n",
      "01271215 -4-4\n",
      "Row(date='01270600', delay='-9', distance='369', origin='ABE', destination='DTW')\n",
      "01270600 -9-9\n",
      "Row(date='01271725', delay='-8', distance='602', origin='ABE', destination='ATL')\n",
      "01271725 -8-8\n",
      "Row(date='01271230', delay='-7', distance='369', origin='ABE', destination='DTW')\n",
      "01271230 -7-7\n",
      "Row(date='01270625', delay='-1', distance='602', origin='ABE', destination='ATL')\n",
      "01270625 -1-1\n",
      "Row(date='01271219', delay='0', distance='569', origin='ABE', destination='ORD')\n",
      "01271219 00\n",
      "Row(date='01280600', delay='-6', distance='369', origin='ABE', destination='DTW')\n",
      "01280600 -6-6\n",
      "Row(date='01281725', delay='-3', distance='602', origin='ABE', destination='ATL')\n",
      "01281725 -3-3\n",
      "Row(date='01281230', delay='-8', distance='369', origin='ABE', destination='DTW')\n",
      "01281230 -8-8\n",
      "Row(date='01280625', delay='-4', distance='602', origin='ABE', destination='ATL')\n",
      "01280625 -4-4\n",
      "Row(date='01281219', delay='0', distance='569', origin='ABE', destination='ORD')\n",
      "01281219 00\n",
      "Row(date='01290600', delay='0', distance='369', origin='ABE', destination='DTW')\n",
      "01290600 00\n",
      "Row(date='01291230', delay='0', distance='369', origin='ABE', destination='DTW')\n",
      "01291230 00\n",
      "Row(date='01290625', delay='4', distance='602', origin='ABE', destination='ATL')\n",
      "01290625 44\n",
      "Row(date='01290607', delay='92', distance='569', origin='ABE', destination='ORD')\n",
      "01290607 9292\n",
      "Row(date='01291219', delay='-10', distance='569', origin='ABE', destination='ORD')\n",
      "01291219 -10-10\n",
      "Row(date='01301215', delay='0', distance='602', origin='ABE', destination='ATL')\n",
      "01301215 00\n",
      "Row(date='01300600', delay='-1', distance='369', origin='ABE', destination='DTW')\n",
      "01300600 -1-1\n",
      "Row(date='01301725', delay='10', distance='602', origin='ABE', destination='ATL')\n",
      "01301725 1010\n",
      "Row(date='01301230', delay='0', distance='369', origin='ABE', destination='DTW')\n",
      "01301230 00\n",
      "Row(date='01300625', delay='0', distance='602', origin='ABE', destination='ATL')\n",
      "01300625 00\n",
      "Row(date='01301219', delay='-11', distance='569', origin='ABE', destination='ORD')\n",
      "01301219 -11-11\n",
      "Row(date='01311215', delay='1', distance='602', origin='ABE', destination='ATL')\n",
      "01311215 11\n",
      "Row(date='01310600', delay='-4', distance='369', origin='ABE', destination='DTW')\n",
      "01310600 -4-4\n",
      "Row(date='01311725', delay='25', distance='602', origin='ABE', destination='ATL')\n",
      "01311725 2525\n",
      "Row(date='01311230', delay='-4', distance='369', origin='ABE', destination='DTW')\n",
      "01311230 -4-4\n",
      "Row(date='01310625', delay='-5', distance='602', origin='ABE', destination='ATL')\n",
      "01310625 -5-5\n",
      "Row(date='01311219', delay='24', distance='569', origin='ABE', destination='ORD')\n",
      "01311219 2424\n",
      "Row(date='01011400', delay='26', distance='137', origin='ABI', destination='DFW')\n",
      "01011400 2626\n",
      "Row(date='01011525', delay='-11', distance='137', origin='ABI', destination='DFW')\n",
      "01011525 -11-11\n",
      "Row(date='01021400', delay='-5', distance='137', origin='ABI', destination='DFW')\n",
      "01021400 -5-5\n",
      "Row(date='01021525', delay='47', distance='137', origin='ABI', destination='DFW')\n",
      "01021525 4747\n",
      "Row(date='01031400', delay='-12', distance='137', origin='ABI', destination='DFW')\n",
      "01031400 -12-12\n",
      "Row(date='01031525', delay='40', distance='137', origin='ABI', destination='DFW')\n",
      "01031525 4040\n",
      "Row(date='01041400', delay='-12', distance='137', origin='ABI', destination='DFW')\n",
      "01041400 -12-12\n",
      "Row(date='01041525', delay='3', distance='137', origin='ABI', destination='DFW')\n",
      "01041525 33\n",
      "Row(date='01051400', delay='-5', distance='137', origin='ABI', destination='DFW')\n",
      "01051400 -5-5\n",
      "Row(date='01051525', delay='-5', distance='137', origin='ABI', destination='DFW')\n",
      "01051525 -5-5\n",
      "Row(date='01061400', delay='2', distance='137', origin='ABI', destination='DFW')\n",
      "01061400 22\n",
      "Row(date='01061525', delay='22', distance='137', origin='ABI', destination='DFW')\n",
      "01061525 2222\n",
      "Row(date='01071400', delay='-12', distance='137', origin='ABI', destination='DFW')\n",
      "01071400 -12-12\n",
      "Row(date='01071525', delay='-15', distance='137', origin='ABI', destination='DFW')\n",
      "01071525 -15-15\n",
      "Row(date='01081525', delay='21', distance='137', origin='ABI', destination='DFW')\n",
      "01081525 2121\n",
      "Row(date='01091525', delay='-8', distance='137', origin='ABI', destination='DFW')\n",
      "01091525 -8-8\n",
      "Row(date='01101525', delay='4', distance='137', origin='ABI', destination='DFW')\n",
      "01101525 44\n",
      "Row(date='01111525', delay='-23', distance='137', origin='ABI', destination='DFW')\n",
      "01111525 -23-23\n",
      "Row(date='01121525', delay='-9', distance='137', origin='ABI', destination='DFW')\n",
      "01121525 -9-9\n",
      "Row(date='01131525', delay='-12', distance='137', origin='ABI', destination='DFW')\n",
      "01131525 -12-12\n",
      "Row(date='01141525', delay='-5', distance='137', origin='ABI', destination='DFW')\n",
      "01141525 -5-5\n",
      "Row(date='01151525', delay='-17', distance='137', origin='ABI', destination='DFW')\n",
      "01151525 -17-17\n",
      "Row(date='01161525', delay='2', distance='137', origin='ABI', destination='DFW')\n",
      "01161525 22\n",
      "Row(date='01171525', delay='-9', distance='137', origin='ABI', destination='DFW')\n",
      "01171525 -9-9\n",
      "Row(date='01181525', delay='-5', distance='137', origin='ABI', destination='DFW')\n",
      "01181525 -5-5\n",
      "Row(date='01191525', delay='-3', distance='137', origin='ABI', destination='DFW')\n",
      "01191525 -3-3\n",
      "Row(date='01201525', delay='-6', distance='137', origin='ABI', destination='DFW')\n",
      "01201525 -6-6\n",
      "Row(date='01211525', delay='-17', distance='137', origin='ABI', destination='DFW')\n",
      "01211525 -17-17\n",
      "Row(date='01221525', delay='40', distance='137', origin='ABI', destination='DFW')\n",
      "01221525 4040\n",
      "Row(date='01231525', delay='-12', distance='137', origin='ABI', destination='DFW')\n",
      "01231525 -12-12\n",
      "Row(date='01241525', delay='21', distance='137', origin='ABI', destination='DFW')\n",
      "01241525 2121\n",
      "Row(date='01251525', delay='-6', distance='137', origin='ABI', destination='DFW')\n",
      "01251525 -6-6\n",
      "Row(date='01261525', delay='-12', distance='137', origin='ABI', destination='DFW')\n",
      "01261525 -12-12\n",
      "Row(date='01271525', delay='-13', distance='137', origin='ABI', destination='DFW')\n",
      "01271525 -13-13\n",
      "Row(date='01281525', delay='-10', distance='137', origin='ABI', destination='DFW')\n",
      "01281525 -10-10\n",
      "Row(date='01291525', delay='146', distance='137', origin='ABI', destination='DFW')\n",
      "01291525 146146\n",
      "Row(date='01301525', delay='-13', distance='137', origin='ABI', destination='DFW')\n",
      "01301525 -13-13\n",
      "Row(date='01311525', delay='6', distance='137', origin='ABI', destination='DFW')\n",
      "01311525 66\n",
      "Row(date='01010925', delay='-9', distance='137', origin='ABI', destination='DFW')\n",
      "01010925 -9-9\n",
      "Row(date='01011730', delay='72', distance='137', origin='ABI', destination='DFW')\n",
      "01011730 7272\n",
      "Row(date='01010700', delay='-5', distance='137', origin='ABI', destination='DFW')\n",
      "01010700 -5-5\n",
      "Row(date='01011155', delay='-6', distance='137', origin='ABI', destination='DFW')\n",
      "01011155 -6-6\n",
      "Row(date='01010810', delay='62', distance='137', origin='ABI', destination='DFW')\n",
      "01010810 6262\n",
      "Row(date='01020550', delay='-7', distance='137', origin='ABI', destination='DFW')\n",
      "01020550 -7-7\n",
      "Row(date='01020925', delay='7', distance='137', origin='ABI', destination='DFW')\n",
      "01020925 77\n",
      "Row(date='01021730', delay='27', distance='137', origin='ABI', destination='DFW')\n",
      "01021730 2727\n",
      "Row(date='01020700', delay='150', distance='137', origin='ABI', destination='DFW')\n",
      "01020700 150150\n",
      "Row(date='01021155', delay='0', distance='137', origin='ABI', destination='DFW')\n",
      "01021155 00\n",
      "Row(date='01020810', delay='1', distance='137', origin='ABI', destination='DFW')\n",
      "01020810 11\n",
      "Row(date='01030550', delay='51', distance='137', origin='ABI', destination='DFW')\n",
      "01030550 5151\n",
      "Row(date='01030925', delay='-7', distance='137', origin='ABI', destination='DFW')\n",
      "01030925 -7-7\n",
      "Row(date='01031730', delay='-18', distance='137', origin='ABI', destination='DFW')\n",
      "01031730 -18-18\n",
      "Row(date='01030700', delay='2', distance='137', origin='ABI', destination='DFW')\n",
      "01030700 22\n",
      "Row(date='01031155', delay='48', distance='137', origin='ABI', destination='DFW')\n",
      "01031155 4848\n",
      "Row(date='01030810', delay='-3', distance='137', origin='ABI', destination='DFW')\n",
      "01030810 -3-3\n",
      "Row(date='01040925', delay='-7', distance='137', origin='ABI', destination='DFW')\n",
      "01040925 -7-7\n",
      "Row(date='01041730', delay='135', distance='137', origin='ABI', destination='DFW')\n",
      "01041730 135135\n",
      "Row(date='01040700', delay='-3', distance='137', origin='ABI', destination='DFW')\n",
      "01040700 -3-3\n",
      "Row(date='01041155', delay='-2', distance='137', origin='ABI', destination='DFW')\n",
      "01041155 -2-2\n",
      "Row(date='01040810', delay='-12', distance='137', origin='ABI', destination='DFW')\n",
      "01040810 -12-12\n",
      "Row(date='01050550', delay='-8', distance='137', origin='ABI', destination='DFW')\n",
      "01050550 -8-8\n",
      "Row(date='01050925', delay='-10', distance='137', origin='ABI', destination='DFW')\n",
      "01050925 -10-10\n",
      "Row(date='01051730', delay='-2', distance='137', origin='ABI', destination='DFW')\n",
      "01051730 -2-2\n",
      "Row(date='01050700', delay='-6', distance='137', origin='ABI', destination='DFW')\n",
      "01050700 -6-6\n",
      "Row(date='01051155', delay='-2', distance='137', origin='ABI', destination='DFW')\n",
      "01051155 -2-2\n",
      "Row(date='01050810', delay='-12', distance='137', origin='ABI', destination='DFW')\n",
      "01050810 -12-12\n",
      "Row(date='01060550', delay='-8', distance='137', origin='ABI', destination='DFW')\n",
      "01060550 -8-8\n",
      "Row(date='01060925', delay='0', distance='137', origin='ABI', destination='DFW')\n",
      "01060925 00\n",
      "Row(date='01061730', delay='-7', distance='137', origin='ABI', destination='DFW')\n",
      "01061730 -7-7\n",
      "Row(date='01060700', delay='-3', distance='137', origin='ABI', destination='DFW')\n",
      "01060700 -3-3\n",
      "Row(date='01061155', delay='-4', distance='137', origin='ABI', destination='DFW')\n",
      "01061155 -4-4\n",
      "Row(date='01060810', delay='-8', distance='137', origin='ABI', destination='DFW')\n",
      "01060810 -8-8\n",
      "Row(date='01070550', delay='-3', distance='137', origin='ABI', destination='DFW')\n",
      "01070550 -3-3\n",
      "Row(date='01070925', delay='62', distance='137', origin='ABI', destination='DFW')\n",
      "01070925 6262\n",
      "Row(date='01071730', delay='0', distance='137', origin='ABI', destination='DFW')\n",
      "01071730 00\n",
      "Row(date='01070700', delay='4', distance='137', origin='ABI', destination='DFW')\n",
      "01070700 44\n",
      "Row(date='01071155', delay='10', distance='137', origin='ABI', destination='DFW')\n",
      "01071155 1010\n",
      "Row(date='01070810', delay='-10', distance='137', origin='ABI', destination='DFW')\n",
      "01070810 -10-10\n",
      "Row(date='01080550', delay='-9', distance='137', origin='ABI', destination='DFW')\n",
      "01080550 -9-9\n",
      "Row(date='01080925', delay='-11', distance='137', origin='ABI', destination='DFW')\n",
      "01080925 -11-11\n",
      "Row(date='01081730', delay='7', distance='137', origin='ABI', destination='DFW')\n",
      "01081730 77\n",
      "Row(date='01080700', delay='-8', distance='137', origin='ABI', destination='DFW')\n",
      "01080700 -8-8\n",
      "Row(date='01081155', delay='-11', distance='137', origin='ABI', destination='DFW')\n",
      "01081155 -11-11\n",
      "Row(date='01080810', delay='-13', distance='137', origin='ABI', destination='DFW')\n",
      "01080810 -13-13\n",
      "Row(date='01081400', delay='10', distance='137', origin='ABI', destination='DFW')\n",
      "01081400 1010\n",
      "Row(date='01090550', delay='395', distance='137', origin='ABI', destination='DFW')\n",
      "01090550 395395\n",
      "Row(date='01090925', delay='0', distance='137', origin='ABI', destination='DFW')\n",
      "01090925 00\n",
      "Row(date='01091730', delay='38', distance='137', origin='ABI', destination='DFW')\n",
      "01091730 3838\n",
      "Row(date='01090700', delay='6', distance='137', origin='ABI', destination='DFW')\n",
      "01090700 66\n",
      "Row(date='01091155', delay='21', distance='137', origin='ABI', destination='DFW')\n",
      "01091155 2121\n",
      "Row(date='01090810', delay='16', distance='137', origin='ABI', destination='DFW')\n",
      "01090810 1616\n",
      "Row(date='01091400', delay='-6', distance='137', origin='ABI', destination='DFW')\n",
      "01091400 -6-6\n",
      "Row(date='01100550', delay='-4', distance='137', origin='ABI', destination='DFW')\n",
      "01100550 -4-4\n",
      "Row(date='01100925', delay='34', distance='137', origin='ABI', destination='DFW')\n",
      "01100925 3434\n",
      "Row(date='01101730', delay='-2', distance='137', origin='ABI', destination='DFW')\n",
      "01101730 -2-2\n",
      "Row(date='01100700', delay='129', distance='137', origin='ABI', destination='DFW')\n",
      "01100700 129129\n",
      "Row(date='01101155', delay='-1', distance='137', origin='ABI', destination='DFW')\n",
      "01101155 -1-1\n",
      "Row(date='01100810', delay='-11', distance='137', origin='ABI', destination='DFW')\n",
      "01100810 -11-11\n",
      "Row(date='01101400', delay='30', distance='137', origin='ABI', destination='DFW')\n",
      "01101400 3030\n",
      "Row(date='01110905', delay='-8', distance='137', origin='ABI', destination='DFW')\n",
      "01110905 -8-8\n",
      "Row(date='01111730', delay='-14', distance='137', origin='ABI', destination='DFW')\n",
      "01111730 -14-14\n",
      "Row(date='01110700', delay='-5', distance='137', origin='ABI', destination='DFW')\n",
      "01110700 -5-5\n",
      "Row(date='01111155', delay='16', distance='137', origin='ABI', destination='DFW')\n",
      "01111155 1616\n",
      "Row(date='01110810', delay='-6', distance='137', origin='ABI', destination='DFW')\n",
      "01110810 -6-6\n",
      "Row(date='01111400', delay='39', distance='137', origin='ABI', destination='DFW')\n",
      "01111400 3939\n",
      "Row(date='01120550', delay='-12', distance='137', origin='ABI', destination='DFW')\n",
      "01120550 -12-12\n",
      "Row(date='01120925', delay='-5', distance='137', origin='ABI', destination='DFW')\n",
      "01120925 -5-5\n",
      "Row(date='01121730', delay='-9', distance='137', origin='ABI', destination='DFW')\n",
      "01121730 -9-9\n",
      "Row(date='01120700', delay='35', distance='137', origin='ABI', destination='DFW')\n",
      "01120700 3535\n",
      "Row(date='01121155', delay='158', distance='137', origin='ABI', destination='DFW')\n",
      "01121155 158158\n",
      "Row(date='01120810', delay='-9', distance='137', origin='ABI', destination='DFW')\n",
      "01120810 -9-9\n",
      "Row(date='01121400', delay='-9', distance='137', origin='ABI', destination='DFW')\n",
      "01121400 -9-9\n",
      "Row(date='01130550', delay='-5', distance='137', origin='ABI', destination='DFW')\n",
      "01130550 -5-5\n",
      "Row(date='01130925', delay='-7', distance='137', origin='ABI', destination='DFW')\n",
      "01130925 -7-7\n",
      "Row(date='01131730', delay='-9', distance='137', origin='ABI', destination='DFW')\n",
      "01131730 -9-9\n",
      "Row(date='01130700', delay='-9', distance='137', origin='ABI', destination='DFW')\n",
      "01130700 -9-9\n",
      "Row(date='01131155', delay='-10', distance='137', origin='ABI', destination='DFW')\n",
      "01131155 -10-10\n",
      "Row(date='01130810', delay='-7', distance='137', origin='ABI', destination='DFW')\n",
      "01130810 -7-7\n",
      "Row(date='01131400', delay='-1', distance='137', origin='ABI', destination='DFW')\n",
      "01131400 -1-1\n",
      "Row(date='01140550', delay='0', distance='137', origin='ABI', destination='DFW')\n",
      "01140550 00\n",
      "Row(date='01140925', delay='4', distance='137', origin='ABI', destination='DFW')\n",
      "01140925 44\n",
      "Row(date='01141730', delay='-13', distance='137', origin='ABI', destination='DFW')\n",
      "01141730 -13-13\n",
      "Row(date='01140700', delay='49', distance='137', origin='ABI', destination='DFW')\n",
      "01140700 4949\n",
      "Row(date='01141155', delay='-10', distance='137', origin='ABI', destination='DFW')\n",
      "01141155 -10-10\n",
      "Row(date='01140810', delay='-8', distance='137', origin='ABI', destination='DFW')\n",
      "01140810 -8-8\n",
      "Row(date='01141400', delay='-17', distance='137',\n",
      "\n",
      "*** WARNING: max output size exceeded, skipping output. ***\n",
      "\n",
      "'YUM', destination='LAX')\n",
      "03010600 55\n",
      "Row(date='03011530', delay='-6', distance='206', origin='YUM', destination='LAX')\n",
      "03011530 -6-6\n",
      "Row(date='03020941', delay='-10', distance='139', origin='YUM', destination='PHX')\n",
      "03020941 -10-10\n",
      "Row(date='03021255', delay='-5', distance='139', origin='YUM', destination='PHX')\n",
      "03021255 -5-5\n",
      "Row(date='03021859', delay='-10', distance='139', origin='YUM', destination='PHX')\n",
      "03021859 -10-10\n",
      "Row(date='03021605', delay='0', distance='139', origin='YUM', destination='PHX')\n",
      "03021605 00\n",
      "Row(date='03021130', delay='9', distance='139', origin='YUM', destination='PHX')\n",
      "03021130 99\n",
      "Row(date='03020800', delay='-5', distance='139', origin='YUM', destination='PHX')\n",
      "03020800 -5-5\n",
      "Row(date='03021950', delay='17', distance='206', origin='YUM', destination='LAX')\n",
      "03021950 1717\n",
      "Row(date='03020600', delay='-5', distance='206', origin='YUM', destination='LAX')\n",
      "03020600 -5-5\n",
      "Row(date='03021530', delay='97', distance='206', origin='YUM', destination='LAX')\n",
      "03021530 9797\n",
      "Row(date='03030941', delay='3', distance='139', origin='YUM', destination='PHX')\n",
      "03030941 33\n",
      "Row(date='03031255', delay='-7', distance='139', origin='YUM', destination='PHX')\n",
      "03031255 -7-7\n",
      "Row(date='03031130', delay='-3', distance='139', origin='YUM', destination='PHX')\n",
      "03031130 -3-3\n",
      "Row(date='03031859', delay='6', distance='139', origin='YUM', destination='PHX')\n",
      "03031859 66\n",
      "Row(date='03031605', delay='6', distance='139', origin='YUM', destination='PHX')\n",
      "03031605 66\n",
      "Row(date='03030800', delay='-14', distance='139', origin='YUM', destination='PHX')\n",
      "03030800 -14-14\n",
      "Row(date='03031950', delay='0', distance='206', origin='YUM', destination='LAX')\n",
      "03031950 00\n",
      "Row(date='03030600', delay='-2', distance='206', origin='YUM', destination='LAX')\n",
      "03030600 -2-2\n",
      "Row(date='03031530', delay='-10', distance='206', origin='YUM', destination='LAX')\n",
      "03031530 -10-10\n",
      "Row(date='03040941', delay='-4', distance='139', origin='YUM', destination='PHX')\n",
      "03040941 -4-4\n",
      "Row(date='03041255', delay='-8', distance='139', origin='YUM', destination='PHX')\n",
      "03041255 -8-8\n",
      "Row(date='03041130', delay='-9', distance='139', origin='YUM', destination='PHX')\n",
      "03041130 -9-9\n",
      "Row(date='03041859', delay='-1', distance='139', origin='YUM', destination='PHX')\n",
      "03041859 -1-1\n",
      "Row(date='03041605', delay='-11', distance='139', origin='YUM', destination='PHX')\n",
      "03041605 -11-11\n",
      "Row(date='03040800', delay='-8', distance='139', origin='YUM', destination='PHX')\n",
      "03040800 -8-8\n",
      "Row(date='03041918', delay='-11', distance='206', origin='YUM', destination='LAX')\n",
      "03041918 -11-11\n",
      "Row(date='03040600', delay='-2', distance='206', origin='YUM', destination='LAX')\n",
      "03040600 -2-2\n",
      "Row(date='03041530', delay='-4', distance='206', origin='YUM', destination='LAX')\n",
      "03041530 -4-4\n",
      "Row(date='03050941', delay='1', distance='139', origin='YUM', destination='PHX')\n",
      "03050941 11\n",
      "Row(date='03051255', delay='-9', distance='139', origin='YUM', destination='PHX')\n",
      "03051255 -9-9\n",
      "Row(date='03051130', delay='-4', distance='139', origin='YUM', destination='PHX')\n",
      "03051130 -4-4\n",
      "Row(date='03051859', delay='-10', distance='139', origin='YUM', destination='PHX')\n",
      "03051859 -10-10\n",
      "Row(date='03051605', delay='-2', distance='139', origin='YUM', destination='PHX')\n",
      "03051605 -2-2\n",
      "Row(date='03050800', delay='-8', distance='139', origin='YUM', destination='PHX')\n",
      "03050800 -8-8\n",
      "Row(date='03051918', delay='11', distance='206', origin='YUM', destination='LAX')\n",
      "03051918 1111\n",
      "Row(date='03050600', delay='-3', distance='206', origin='YUM', destination='LAX')\n",
      "03050600 -3-3\n",
      "Row(date='03051530', delay='-8', distance='206', origin='YUM', destination='LAX')\n",
      "03051530 -8-8\n",
      "Row(date='03060941', delay='-1', distance='139', origin='YUM', destination='PHX')\n",
      "03060941 -1-1\n",
      "Row(date='03061255', delay='-8', distance='139', origin='YUM', destination='PHX')\n",
      "03061255 -8-8\n",
      "Row(date='03061130', delay='-5', distance='139', origin='YUM', destination='PHX')\n",
      "03061130 -5-5\n",
      "Row(date='03061900', delay='-10', distance='139', origin='YUM', destination='PHX')\n",
      "03061900 -10-10\n",
      "Row(date='03060724', delay='-2', distance='139', origin='YUM', destination='PHX')\n",
      "03060724 -2-2\n",
      "Row(date='03061605', delay='-6', distance='139', origin='YUM', destination='PHX')\n",
      "03061605 -6-6\n",
      "Row(date='03061946', delay='-3', distance='206', origin='YUM', destination='LAX')\n",
      "03061946 -3-3\n",
      "Row(date='03060600', delay='-7', distance='206', origin='YUM', destination='LAX')\n",
      "03060600 -7-7\n",
      "Row(date='03061532', delay='2', distance='206', origin='YUM', destination='LAX')\n",
      "03061532 22\n",
      "Row(date='03070941', delay='-8', distance='139', origin='YUM', destination='PHX')\n",
      "03070941 -8-8\n",
      "Row(date='03071255', delay='-13', distance='139', origin='YUM', destination='PHX')\n",
      "03071255 -13-13\n",
      "Row(date='03071130', delay='-12', distance='139', origin='YUM', destination='PHX')\n",
      "03071130 -12-12\n",
      "Row(date='03071900', delay='1', distance='139', origin='YUM', destination='PHX')\n",
      "03071900 11\n",
      "Row(date='03070724', delay='-7', distance='139', origin='YUM', destination='PHX')\n",
      "03070724 -7-7\n",
      "Row(date='03071605', delay='-5', distance='139', origin='YUM', destination='PHX')\n",
      "03071605 -5-5\n",
      "Row(date='03071946', delay='3', distance='206', origin='YUM', destination='LAX')\n",
      "03071946 33\n",
      "Row(date='03070600', delay='0', distance='206', origin='YUM', destination='LAX')\n",
      "03070600 00\n",
      "Row(date='03071532', delay='-5', distance='206', origin='YUM', destination='LAX')\n",
      "03071532 -5-5\n",
      "Row(date='03080941', delay='36', distance='139', origin='YUM', destination='PHX')\n",
      "03080941 3636\n",
      "Row(date='03081255', delay='-7', distance='139', origin='YUM', destination='PHX')\n",
      "03081255 -7-7\n",
      "Row(date='03081130', delay='-4', distance='139', origin='YUM', destination='PHX')\n",
      "03081130 -4-4\n",
      "Row(date='03080724', delay='-7', distance='139', origin='YUM', destination='PHX')\n",
      "03080724 -7-7\n",
      "Row(date='03080600', delay='-6', distance='206', origin='YUM', destination='LAX')\n",
      "03080600 -6-6\n",
      "Row(date='03081532', delay='4', distance='206', origin='YUM', destination='LAX')\n",
      "03081532 44\n",
      "Row(date='03090841', delay='-5', distance='139', origin='YUM', destination='PHX')\n",
      "03090841 -5-5\n",
      "Row(date='03091155', delay='-4', distance='139', origin='YUM', destination='PHX')\n",
      "03091155 -4-4\n",
      "Row(date='03091800', delay='-14', distance='139', origin='YUM', destination='PHX')\n",
      "03091800 -14-14\n",
      "Row(date='03090623', delay='-3', distance='139', origin='YUM', destination='PHX')\n",
      "03090623 -3-3\n",
      "Row(date='03091505', delay='-4', distance='139', origin='YUM', destination='PHX')\n",
      "03091505 -4-4\n",
      "Row(date='03091030', delay='-7', distance='139', origin='YUM', destination='PHX')\n",
      "03091030 -7-7\n",
      "Row(date='03091846', delay='-5', distance='206', origin='YUM', destination='LAX')\n",
      "03091846 -5-5\n",
      "Row(date='03090500', delay='-4', distance='206', origin='YUM', destination='LAX')\n",
      "03090500 -4-4\n",
      "Row(date='03091432', delay='47', distance='206', origin='YUM', destination='LAX')\n",
      "03091432 4747\n",
      "Row(date='03100841', delay='-9', distance='139', origin='YUM', destination='PHX')\n",
      "03100841 -9-9\n",
      "Row(date='03101155', delay='-4', distance='139', origin='YUM', destination='PHX')\n",
      "03101155 -4-4\n",
      "Row(date='03101030', delay='-7', distance='139', origin='YUM', destination='PHX')\n",
      "03101030 -7-7\n",
      "Row(date='03101800', delay='-11', distance='139', origin='YUM', destination='PHX')\n",
      "03101800 -11-11\n",
      "Row(date='03100623', delay='-5', distance='139', origin='YUM', destination='PHX')\n",
      "03100623 -5-5\n",
      "Row(date='03101505', delay='-16', distance='139', origin='YUM', destination='PHX')\n",
      "03101505 -16-16\n",
      "Row(date='03101846', delay='-9', distance='206', origin='YUM', destination='LAX')\n",
      "03101846 -9-9\n",
      "Row(date='03100500', delay='-4', distance='206', origin='YUM', destination='LAX')\n",
      "03100500 -4-4\n",
      "Row(date='03101432', delay='1', distance='206', origin='YUM', destination='LAX')\n",
      "03101432 11\n",
      "Row(date='03110841', delay='-5', distance='139', origin='YUM', destination='PHX')\n",
      "03110841 -5-5\n",
      "Row(date='03111155', delay='-8', distance='139', origin='YUM', destination='PHX')\n",
      "03111155 -8-8\n",
      "Row(date='03111030', delay='-2', distance='139', origin='YUM', destination='PHX')\n",
      "03111030 -2-2\n",
      "Row(date='03111800', delay='-2', distance='139', origin='YUM', destination='PHX')\n",
      "03111800 -2-2\n",
      "Row(date='03110623', delay='2', distance='139', origin='YUM', destination='PHX')\n",
      "03110623 22\n",
      "Row(date='03111505', delay='6', distance='139', origin='YUM', destination='PHX')\n",
      "03111505 66\n",
      "Row(date='03111846', delay='-6', distance='206', origin='YUM', destination='LAX')\n",
      "03111846 -6-6\n",
      "Row(date='03110500', delay='3', distance='206', origin='YUM', destination='LAX')\n",
      "03110500 33\n",
      "Row(date='03111432', delay='6', distance='206', origin='YUM', destination='LAX')\n",
      "03111432 66\n",
      "Row(date='03120841', delay='-3', distance='139', origin='YUM', destination='PHX')\n",
      "03120841 -3-3\n",
      "Row(date='03121155', delay='-10', distance='139', origin='YUM', destination='PHX')\n",
      "03121155 -10-10\n",
      "Row(date='03121030', delay='-3', distance='139', origin='YUM', destination='PHX')\n",
      "03121030 -3-3\n",
      "Row(date='03121800', delay='-10', distance='139', origin='YUM', destination='PHX')\n",
      "03121800 -10-10\n",
      "Row(date='03120623', delay='-4', distance='139', origin='YUM', destination='PHX')\n",
      "03120623 -4-4\n",
      "Row(date='03121505', delay='32', distance='139', origin='YUM', destination='PHX')\n",
      "03121505 3232\n",
      "Row(date='03121846', delay='-10', distance='206', origin='YUM', destination='LAX')\n",
      "03121846 -10-10\n",
      "Row(date='03120500', delay='-5', distance='206', origin='YUM', destination='LAX')\n",
      "03120500 -5-5\n",
      "Row(date='03121432', delay='-8', distance='206', origin='YUM', destination='LAX')\n",
      "03121432 -8-8\n",
      "Row(date='03130841', delay='-2', distance='139', origin='YUM', destination='PHX')\n",
      "03130841 -2-2\n",
      "Row(date='03131155', delay='-11', distance='139', origin='YUM', destination='PHX')\n",
      "03131155 -11-11\n",
      "Row(date='03131030', delay='-6', distance='139', origin='YUM', destination='PHX')\n",
      "03131030 -6-6\n",
      "Row(date='03131800', delay='-13', distance='139', origin='YUM', destination='PHX')\n",
      "03131800 -13-13\n",
      "Row(date='03130623', delay='3', distance='139', origin='YUM', destination='PHX')\n",
      "03130623 33\n",
      "Row(date='03131505', delay='2', distance='139', origin='YUM', destination='PHX')\n",
      "03131505 22\n",
      "Row(date='03131846', delay='9', distance='206', origin='YUM', destination='LAX')\n",
      "03131846 99\n",
      "Row(date='03130500', delay='-8', distance='206', origin='YUM', destination='LAX')\n",
      "03130500 -8-8\n",
      "Row(date='03131432', delay='8', distance='206', origin='YUM', destination='LAX')\n",
      "03131432 88\n",
      "Row(date='03140841', delay='1', distance='139', origin='YUM', destination='PHX')\n",
      "03140841 11\n",
      "Row(date='03141155', delay='-19', distance='139', origin='YUM', destination='PHX')\n",
      "03141155 -19-19\n",
      "Row(date='03141030', delay='-13', distance='139', origin='YUM', destination='PHX')\n",
      "03141030 -13-13\n",
      "Row(date='03141800', delay='-1', distance='139', origin='YUM', destination='PHX')\n",
      "03141800 -1-1\n",
      "Row(date='03140623', delay='-2', distance='139', origin='YUM', destination='PHX')\n",
      "03140623 -2-2\n",
      "Row(date='03141505', delay='3', distance='139', origin='YUM', destination='PHX')\n",
      "03141505 33\n",
      "Row(date='03141846', delay='52', distance='206', origin='YUM', destination='LAX')\n",
      "03141846 5252\n",
      "Row(date='03140500', delay='10', distance='206', origin='YUM', destination='LAX')\n",
      "03140500 1010\n",
      "Row(date='03141432', delay='-3', distance='206', origin='YUM', destination='LAX')\n",
      "03141432 -3-3\n",
      "Row(date='03150841', delay='-8', distance='139', origin='YUM', destination='PHX')\n",
      "03150841 -8-8\n",
      "Row(date='03151155', delay='-7', distance='139', origin='YUM', destination='PHX')\n",
      "03151155 -7-7\n",
      "Row(date='03151030', delay='-5', distance='139', origin='YUM', destination='PHX')\n",
      "03151030 -5-5\n",
      "Row(date='03150623', delay='-10', distance='139', origin='YUM', destination='PHX')\n",
      "03150623 -10-10\n",
      "Row(date='03150500', delay='-2', distance='206', origin='YUM', destination='LAX')\n",
      "03150500 -2-2\n",
      "Row(date='03151432', delay='-8', distance='206', origin='YUM', destination='LAX')\n",
      "03151432 -8-8\n",
      "Row(date='03160841', delay='-10', distance='139', origin='YUM', destination='PHX')\n",
      "03160841 -10-10\n",
      "Row(date='03161155', delay='-10', distance='139', origin='YUM', destination='PHX')\n",
      "03161155 -10-10\n",
      "Row(date='03161800', delay='-8', distance='139', origin='YUM', destination='PHX')\n",
      "03161800 -8-8\n",
      "Row(date='03160623', delay='-5', distance='139', origin='YUM', destination='PHX')\n",
      "03160623 -5-5\n",
      "Row(date='03161505', delay='44', distance='139', origin='YUM', destination='PHX')\n",
      "03161505 4444\n",
      "Row(date='03161030', delay='-9', distance='139', origin='YUM', destination='PHX')\n",
      "03161030 -9-9\n",
      "Row(date='03161846', delay='-6', distance='206', origin='YUM', destination='LAX')\n",
      "03161846 -6-6\n",
      "Row(date='03160500', delay='-5', distance='206', origin='YUM', destination='LAX')\n",
      "03160500 -5-5\n",
      "Row(date='03161432', delay='-6', distance='206', origin='YUM', destination='LAX')\n",
      "03161432 -6-6\n",
      "Row(date='03170841', delay='-7', distance='139', origin='YUM', destination='PHX')\n",
      "03170841 -7-7\n",
      "Row(date='03171155', delay='-9', distance='139', origin='YUM', destination='PHX')\n",
      "03171155 -9-9\n",
      "Row(date='03171030', delay='-1', distance='139', origin='YUM', destination='PHX')\n",
      "03171030 -1-1\n",
      "Row(date='03171800', delay='-4', distance='139', origin='YUM', destination='PHX')\n",
      "03171800 -4-4\n",
      "Row(date='03170623', delay='-5', distance='139', origin='YUM', destination='PHX')\n",
      "03170623 -5-5\n",
      "Row(date='03171505', delay='-10', distance='139', origin='YUM', destination='PHX')\n",
      "03171505 -10-10\n",
      "Row(date='03171846', delay='2', distance='206', origin='YUM', destination='LAX')\n",
      "03171846 22\n",
      "Row(date='03170500', delay='-1', distance='206', origin='YUM', destination='LAX')\n",
      "03170500 -1-1\n",
      "Row(date='03171432', delay='-8', distance='206', origin='YUM', destination='LAX')\n",
      "03171432 -8-8\n",
      "Row(date='03180841', delay='0', distance='139', origin='YUM', destination='PHX')\n",
      "03180841 00\n",
      "Row(date='03181155', delay='-8', distance='139', origin='YUM', destination='PHX')\n",
      "03181155 -8-8\n",
      "Row(date='03181030', delay='-9', distance='139', origin='YUM', destination='PHX')\n",
      "03181030 -9-9\n",
      "Row(date='03181800', delay='-9', distance='139', origin='YUM', destination='PHX')\n",
      "03181800 -9-9\n",
      "Row(date='03180623', delay='1', distance='139', origin='YUM', destination='PHX')\n",
      "03180623 11\n",
      "Row(date='03181505', delay='-11', distance='139', origin='YUM', destination='PHX')\n",
      "03181505 -11-11\n",
      "Row(date='03181846', delay='-1', distance='206', origin='YUM', destination='LAX')\n",
      "03181846 -1-1\n",
      "Row(date='03180500', delay='154', distance='206', origin='YUM', destination='LAX')\n",
      "03180500 154154\n",
      "Row(date='03181432', delay='6', distance='206', origin='YUM', destination='LAX')\n",
      "03181432 66\n",
      "Row(date='03190841', delay='-3', distance='139', origin='YUM', destination='PHX')\n",
      "03190841 -3-3\n",
      "Row(date='03191155', delay='-6', distance='139', origin='YUM', destination='PHX')\n",
      "03191155 -6-6\n",
      "Row(date='03191030', delay='1', distance='139', origin='YUM', destination='PHX')\n",
      "03191030 11\n",
      "Row(date='03191800', delay='-13', distance='139', origin='YUM', destination='PHX')\n",
      "03191800 -13-13\n",
      "Row(date='03190623', delay='-5', distance='139', origin='YUM', destination='PHX')\n",
      "03190623 -5-5\n",
      "Row(date='03191505', delay='0', distance='139', origin='YUM', destination='PHX')\n",
      "03191505 00\n",
      "Row(date='03191846', delay='63', distance='206', origin='YUM', destination='LAX')\n",
      "03191846 6363\n",
      "Row(date='03190500', delay='33', distance='206', origin='YUM', destination='LAX')\n",
      "03190500 3333\n",
      "Row(date='03191432', delay='37', distance='206', origin='YUM', destination='LAX')\n",
      "03191432 3737\n",
      "Row(date='03200841', delay='0', distance='139', origin='YUM', destination='PHX')\n",
      "03200841 00\n",
      "Row(date='03201155', delay='-12', distance='139', origin='YUM', destination='PHX')\n",
      "03201155 -12-12\n",
      "Row(date='03201030', delay='-11', distance='139', origin='YUM', destination='PHX')\n",
      "03201030 -11-11\n",
      "Row(date='03201800', delay='-8', distance='139', origin='YUM', destination='PHX')\n",
      "03201800 -8-8\n",
      "Row(date='03200623', delay='2', distance='139', origin='YUM', destination='PHX')\n",
      "03200623 22\n",
      "Row(date='03201505', delay='-6', distance='139', origin='YUM', destination='PHX')\n",
      "03201505 -6-6\n",
      "Row(date='03201846', delay='0', distance='206', origin='YUM', destination='LAX')\n",
      "03201846 00\n",
      "Row(date='03200500', delay='-6', distance='206', origin='YUM', destination='LAX')\n",
      "03200500 -6-6\n",
      "Row(date='03201432', delay='0', distance='206', origin='YUM', destination='LAX')\n",
      "03201432 00\n",
      "Row(date='03210841', delay='-4', distance='139', origin='YUM', destination='PHX')\n",
      "03210841 -4-4\n",
      "Row(date='03211155', delay='-14', distance='139', origin='YUM', destination='PHX')\n",
      "03211155 -14-14\n",
      "Row(date='03211030', delay='-10', distance='139', origin='YUM', destination='PHX')\n",
      "03211030 -10-10\n",
      "Row(date='03211800', delay='-10', distance='139', origin='YUM', destination='PHX')\n",
      "03211800 -10-10\n",
      "Row(date='03210623', delay='-8', distance='139', origin='YUM', destination='PHX')\n",
      "03210623 -8-8\n",
      "Row(date='03211505', delay='-2', distance='139', origin='YUM', destination='PHX')\n",
      "03211505 -2-2\n",
      "Row(date='03211846', delay='11', distance='206', origin='YUM', destination='LAX')\n",
      "03211846 1111\n",
      "Row(date='03210500', delay='-2', distance='206', origin='YUM', destination='LAX')\n",
      "03210500 -2-2\n",
      "Row(date='03211432', delay='34', distance='206', origin='YUM', destination='LAX')\n",
      "03211432 3434\n",
      "Row(date='03220841', delay='-8', distance='139', origin='YUM', destination='PHX')\n",
      "03220841 -8-8\n",
      "Row(date='03221155', delay='-10', distance='139', origin='YUM', destination='PHX')\n",
      "03221155 -10-10\n",
      "Row(date='03221030', delay='-6', distance='139', origin='YUM', destination='PHX')\n",
      "03221030 -6-6\n",
      "Row(date='03220623', delay='-5', distance='139', origin='YUM', destination='PHX')\n",
      "03220623 -5-5\n",
      "Row(date='03220500', delay='-2', distance='206', origin='YUM', destination='LAX')\n",
      "03220500 -2-2\n",
      "Row(date='03221432', delay='15', distance='206', origin='YUM', destination='LAX')\n",
      "03221432 1515\n",
      "Row(date='03230841', delay='-8', distance='139', origin='YUM', destination='PHX')\n",
      "03230841 -8-8\n",
      "Row(date='03231155', delay='-10', distance='139', origin='YUM', destination='PHX')\n",
      "03231155 -10-10\n",
      "Row(date='03231800', delay='-7', distance='139', origin='YUM', destination='PHX')\n",
      "03231800 -7-7\n",
      "Row(date='03230623', delay='-6', distance='139', origin='YUM', destination='PHX')\n",
      "03230623 -6-6\n",
      "Row(date='03231505', delay='-5', distance='139', origin='YUM', destination='PHX')\n",
      "03231505 -5-5\n",
      "Row(date='03231030', delay='-12', distance='139', origin='YUM', destination='PHX')\n",
      "03231030 -12-12\n",
      "Row(date='03231846', delay='-5', distance='206', origin='YUM', destination='LAX')\n",
      "03231846 -5-5\n",
      "Row(date='03230500', delay='-2', distance='206', origin='YUM', destination='LAX')\n",
      "03230500 -2-2\n",
      "Row(date='03231432', delay='-4', distance='206', origin='YUM', destination='LAX')\n",
      "03231432 -4-4\n",
      "Row(date='03240841', delay='-8', distance='139', origin='YUM', destination='PHX')\n",
      "03240841 -8-8\n",
      "Row(date='03241155', delay='-9', distance='139', origin='YUM', destination='PHX')\n",
      "03241155 -9-9\n",
      "Row(date='03241030', delay='-6', distance='139', origin='YUM', destination='PHX')\n",
      "03241030 -6-6\n",
      "Row(date='03241800', delay='-9', distance='139', origin='YUM', destination='PHX')\n",
      "03241800 -9-9\n",
      "Row(date='03240623', delay='-6', distance='139', origin='YUM', destination='PHX')\n",
      "03240623 -6-6\n",
      "Row(date='03241505', delay='-1', distance='139', origin='YUM', destination='PHX')\n",
      "03241505 -1-1\n",
      "Row(date='03241846', delay='3', distance='206', origin='YUM', destination='LAX')\n",
      "03241846 33\n",
      "Row(date='03240500', delay='-3', distance='206', origin='YUM', destination='LAX')\n",
      "03240500 -3-3\n",
      "Row(date='03241432', delay='3', distance='206', origin='YUM', destination='LAX')\n",
      "03241432 33\n",
      "Row(date='03250841', delay='0', distance='139', origin='YUM', destination='PHX')\n",
      "03250841 00\n",
      "Row(date='03251155', delay='-9', distance='139', origin='YUM', destination='PHX')\n",
      "03251155 -9-9\n",
      "Row(date='03251030', delay='0', distance='139', origin='YUM', destination='PHX')\n",
      "03251030 00\n",
      "Row(date='03251800', delay='-4', distance='139', origin='YUM', destination='PHX')\n",
      "03251800 -4-4\n",
      "Row(date='03250623', delay='-7', distance='139', origin='YUM', destination='PHX')\n",
      "03250623 -7-7\n",
      "Row(date='03251505', delay='-7', distance='139', origin='YUM', destination='PHX')\n",
      "03251505 -7-7\n",
      "Row(date='03251846', delay='7', distance='206', origin='YUM', destination='LAX')\n",
      "03251846 77\n",
      "Row(date='03250500', delay='1', distance='206', origin='YUM', destination='LAX')\n",
      "03250500 11\n",
      "Row(date='03251432', delay='43', distance='206', origin='YUM', destination='LAX')\n",
      "03251432 4343\n",
      "Row(date='03260841', delay='-1', distance='139', origin='YUM', destination='PHX')\n",
      "03260841 -1-1\n",
      "Row(date='03261155', delay='-13', distance='139', origin='YUM', destination='PHX')\n",
      "03261155 -13-13\n",
      "Row(date='03261030', delay='-9', distance='139', origin='YUM', destination='PHX')\n",
      "03261030 -9-9\n",
      "Row(date='03261800', delay='39', distance='139', origin='YUM', destination='PHX')\n",
      "03261800 3939\n",
      "Row(date='03260623', delay='-7', distance='139', origin='YUM', destination='PHX')\n",
      "03260623 -7-7\n",
      "Row(date='03261505', delay='-6', distance='139', origin='YUM', destination='PHX')\n",
      "03261505 -6-6\n",
      "Row(date='03261846', delay='-1', distance='206', origin='YUM', destination='LAX')\n",
      "03261846 -1-1\n",
      "Row(date='03260500', delay='0', distance='206', origin='YUM', destination='LAX')\n",
      "03260500 00\n",
      "Row(date='03261432', delay='0', distance='206', origin='YUM', destination='LAX')\n",
      "03261432 00\n",
      "Row(date='03270841', delay='-3', distance='139', origin='YUM', destination='PHX')\n",
      "03270841 -3-3\n",
      "Row(date='03271155', delay='-8', distance='139', origin='YUM', destination='PHX')\n",
      "03271155 -8-8\n",
      "Row(date='03271030', delay='-4', distance='139', origin='YUM', destination='PHX')\n",
      "03271030 -4-4\n",
      "Row(date='03271800', delay='0', distance='139', origin='YUM', destination='PHX')\n",
      "03271800 00\n",
      "Row(date='03270623', delay='-4', distance='139', origin='YUM', destination='PHX')\n",
      "03270623 -4-4\n",
      "Row(date='03271505', delay='3', distance='139', origin='YUM', destination='PHX')\n",
      "03271505 33\n",
      "Row(date='03271846', delay='-2', distance='206', origin='YUM', destination='LAX')\n",
      "03271846 -2-2\n",
      "Row(date='03270500', delay='0', distance='206', origin='YUM', destination='LAX')\n",
      "03270500 00\n",
      "Row(date='03271432', delay='11', distance='206', origin='YUM', destination='LAX')\n",
      "03271432 1111\n",
      "Row(date='03280841', delay='-9', distance='139', origin='YUM', destination='PHX')\n",
      "03280841 -9-9\n",
      "Row(date='03281155', delay='-16', distance='139', origin='YUM', destination='PHX')\n",
      "03281155 -16-16\n",
      "Row(date='03281030', delay='-10', distance='139', origin='YUM', destination='PHX')\n",
      "03281030 -10-10\n",
      "Row(date='03281800', delay='-6', distance='139', origin='YUM', destination='PHX')\n",
      "03281800 -6-6\n",
      "Row(date='03280623', delay='-12', distance='139', origin='YUM', destination='PHX')\n",
      "03280623 -12-12\n",
      "Row(date='03281505', delay='475', distance='139', origin='YUM', destination='PHX')\n",
      "03281505 475475\n",
      "Row(date='03281846', delay='2', distance='206', origin='YUM', destination='LAX')\n",
      "03281846 22\n",
      "Row(date='03280500', delay='-9', distance='206', origin='YUM', destination='LAX')\n",
      "03280500 -9-9\n",
      "Row(date='03281432', delay='-10', distance='206', origin='YUM', destination='LAX')\n",
      "03281432 -10-10\n",
      "Row(date='03290841', delay='-10', distance='139', origin='YUM', destination='PHX')\n",
      "03290841 -10-10\n",
      "Row(date='03291155', delay='-3', distance='139', origin='YUM', destination='PHX')\n",
      "03291155 -3-3\n",
      "Row(date='03291030', delay='285', distance='139', origin='YUM', destination='PHX')\n",
      "03291030 285285\n",
      "Row(date='03290623', delay='-4', distance='139', origin='YUM', destination='PHX')\n",
      "03290623 -4-4\n",
      "Row(date='03290500', delay='-1', distance='206', origin='YUM', destination='LAX')\n",
      "03290500 -1-1\n",
      "Row(date='03291432', delay='-2', distance='206', origin='YUM', destination='LAX')\n",
      "03291432 -2-2\n",
      "Row(date='03300841', delay='-10', distance='139', origin='YUM', destination='PHX')\n",
      "03300841 -10-10\n",
      "Row(date='03301155', delay='-10', distance='139', origin='YUM', destination='PHX')\n",
      "03301155 -10-10\n",
      "Row(date='03301800', delay='-11', distance='139', origin='YUM', destination='PHX')\n",
      "03301800 -11-11\n",
      "Row(date='03300623', delay='-6', distance='139', origin='YUM', destination='PHX')\n",
      "03300623 -6-6\n",
      "Row(date='03301505', delay='-13', distance='139', origin='YUM', destination='PHX')\n",
      "03301505 -13-13\n",
      "Row(date='03301030', delay='-2', distance='139', origin='YUM', destination='PHX')\n",
      "03301030 -2-2\n",
      "Row(date='03301846', delay='9', distance='206', origin='YUM', destination='LAX')\n",
      "03301846 99\n",
      "Row(date='03300500', delay='-5', distance='206', origin='YUM', destination='LAX')\n",
      "03300500 -5-5\n",
      "Row(date='03301432', delay='-4', distance='206', origin='YUM', destination='LAX')\n",
      "03301432 -4-4\n",
      "Row(date='03310841', delay='-5', distance='139', origin='YUM', destination='PHX')\n",
      "03310841 -5-5\n",
      "Row(date='03311155', delay='-6', distance='139', origin='YUM', destination='PHX')\n",
      "03311155 -6-6\n",
      "Row(date='03311030', delay='-7', distance='139', origin='YUM', destination='PHX')\n",
      "03311030 -7-7\n",
      "Row(date='03311800', delay='-8', distance='139', origin='YUM', destination='PHX')\n",
      "03311800 -8-8\n",
      "Row(date='03310623', delay='-10', distance='139', origin='YUM', destination='PHX')\n",
      "03310623 -10-10\n",
      "Row(date='03311505', delay='-4', distance='139', origin='YUM', destination='PHX')\n",
      "03311505 -4-4\n",
      "Row(date='03311846', delay='0', distance='206', origin='YUM', destination='LAX')\n",
      "03311846 00\n",
      "Row(date='03310500', delay='-7', distance='206', origin='YUM', destination='LAX')\n",
      "03310500 -7-7\n",
      "Row(date='03311432', delay='6', distance='206', origin='YUM', destination='LAX')\n",
      "03311432 66\n",
      "Row(date='Abbotsford\\tBC\\tCanada\\tYXX', delay=None, distance=None, origin=None, destination=None)\n"
     ]
    },
    {
     "data": {
      "text/plain": [
       "\u001b[0;31m---------------------------------------------------------------------------\u001b[0m\n",
       "\u001b[0;31mTypeError\u001b[0m                                 Traceback (most recent call last)\n",
       "File \u001b[0;32m<command-2082451762268731>:4\u001b[0m\n",
       "\u001b[1;32m      2\u001b[0m \u001b[38;5;28;01mfor\u001b[39;00m i \u001b[38;5;129;01min\u001b[39;00m df\u001b[38;5;241m.\u001b[39mcollect():\n",
       "\u001b[1;32m      3\u001b[0m     \u001b[38;5;28mprint\u001b[39m(i)                  \u001b[38;5;66;03m# Imprime a linha completa\u001b[39;00m\n",
       "\u001b[0;32m----> 4\u001b[0m     \u001b[38;5;28mprint\u001b[39m(i[\u001b[38;5;241m0\u001b[39m], \u001b[43mi\u001b[49m\u001b[43m[\u001b[49m\u001b[38;5;241;43m1\u001b[39;49m\u001b[43m]\u001b[49m\u001b[43m \u001b[49m\u001b[38;5;241;43m*\u001b[39;49m\u001b[43m \u001b[49m\u001b[38;5;241;43m2\u001b[39;49m)\n",
       "\n",
       "\u001b[0;31mTypeError\u001b[0m: unsupported operand type(s) for *: 'NoneType' and 'int'"
      ]
     },
     "metadata": {
      "application/vnd.databricks.v1+output": {
       "arguments": {},
       "data": "\u001b[0;31m---------------------------------------------------------------------------\u001b[0m\n\u001b[0;31mTypeError\u001b[0m                                 Traceback (most recent call last)\nFile \u001b[0;32m<command-2082451762268731>:4\u001b[0m\n\u001b[1;32m      2\u001b[0m \u001b[38;5;28;01mfor\u001b[39;00m i \u001b[38;5;129;01min\u001b[39;00m df\u001b[38;5;241m.\u001b[39mcollect():\n\u001b[1;32m      3\u001b[0m     \u001b[38;5;28mprint\u001b[39m(i)                  \u001b[38;5;66;03m# Imprime a linha completa\u001b[39;00m\n\u001b[0;32m----> 4\u001b[0m     \u001b[38;5;28mprint\u001b[39m(i[\u001b[38;5;241m0\u001b[39m], \u001b[43mi\u001b[49m\u001b[43m[\u001b[49m\u001b[38;5;241;43m1\u001b[39;49m\u001b[43m]\u001b[49m\u001b[43m \u001b[49m\u001b[38;5;241;43m*\u001b[39;49m\u001b[43m \u001b[49m\u001b[38;5;241;43m2\u001b[39;49m)\n\n\u001b[0;31mTypeError\u001b[0m: unsupported operand type(s) for *: 'NoneType' and 'int'",
       "errorSummary": "<span class='ansi-red-fg'>TypeError</span>: unsupported operand type(s) for *: 'NoneType' and 'int'",
       "errorTraceType": "ansi",
       "metadata": {},
       "type": "ipynbError"
      }
     },
     "output_type": "display_data"
    }
   ],
   "source": [
    "# Iterando sobre todas as linhas do DataFrame\n",
    "for i in df.collect():\n",
    "    print(i)                  # Imprime a linha completa\n",
    "    print(i[0], i[1] * 2)     # Imprime o primeiro valor e o segundo multiplicado por 2\n"
   ]
  },
  {
   "cell_type": "code",
   "execution_count": 0,
   "metadata": {
    "application/vnd.databricks.v1+cell": {
     "cellMetadata": {
      "byteLimit": 2048000,
      "rowLimit": 10000
     },
     "inputWidgets": {},
     "nuid": "2a03afea-bd3f-4ff8-b6f8-fc8ba6241cbc",
     "showTitle": false,
     "tableResultSettingsMap": {},
     "title": ""
    }
   },
   "outputs": [],
   "source": [
    "# adicionado uma coluna ao dataframe \n",
    "df = df.withColumn('Nova Coluna', df ['delay']+2)"
   ]
  },
  {
   "cell_type": "code",
   "execution_count": 0,
   "metadata": {
    "application/vnd.databricks.v1+cell": {
     "cellMetadata": {
      "byteLimit": 2048000,
      "rowLimit": 10000
     },
     "inputWidgets": {},
     "nuid": "52da57d5-698b-4ffd-8183-674a32a860b2",
     "showTitle": false,
     "tableResultSettingsMap": {},
     "title": ""
    }
   },
   "outputs": [
    {
     "name": "stdout",
     "output_type": "stream",
     "text": [
      "+--------+-----+--------+------+-----------+\n",
      "|    date|delay|distance|origin|destination|\n",
      "+--------+-----+--------+------+-----------+\n",
      "|01011245|    6|     602|   ABE|        ATL|\n",
      "|01020600|   -8|     369|   ABE|        DTW|\n",
      "|01021245|   -2|     602|   ABE|        ATL|\n",
      "|01020605|   -4|     602|   ABE|        ATL|\n",
      "|01031245|   -4|     602|   ABE|        ATL|\n",
      "|01030605|    0|     602|   ABE|        ATL|\n",
      "|01041243|   10|     602|   ABE|        ATL|\n",
      "|01040605|   28|     602|   ABE|        ATL|\n",
      "|01051245|   88|     602|   ABE|        ATL|\n",
      "|01050605|    9|     602|   ABE|        ATL|\n",
      "+--------+-----+--------+------+-----------+\n",
      "only showing top 10 rows\n",
      "\n"
     ]
    }
   ],
   "source": [
    "# removendo coluna \n",
    "df = df.drop ('Nova Coluna')\n",
    "df.show(10)"
   ]
  },
  {
   "cell_type": "code",
   "execution_count": 0,
   "metadata": {
    "application/vnd.databricks.v1+cell": {
     "cellMetadata": {
      "byteLimit": 2048000,
      "rowLimit": 10000
     },
     "inputWidgets": {},
     "nuid": "f063e32d-652d-4af5-b81e-d4c5eb5188ce",
     "showTitle": false,
     "tableResultSettingsMap": {},
     "title": ""
    }
   },
   "outputs": [
    {
     "name": "stdout",
     "output_type": "stream",
     "text": [
      "+--------+-----+--------+------+-----------+\n",
      "|    date|delay|distance|origin|destination|\n",
      "+--------+-----+--------+------+-----------+\n",
      "|01011245|    6|     602|   ABE|        ATL|\n",
      "|01020600|   -8|     369|   ABE|        DTW|\n",
      "|01021245|   -2|     602|   ABE|        ATL|\n",
      "|01020605|   -4|     602|   ABE|        ATL|\n",
      "|01031245|   -4|     602|   ABE|        ATL|\n",
      "|01030605|    0|     602|   ABE|        ATL|\n",
      "|01041243|   10|     602|   ABE|        ATL|\n",
      "|01040605|   28|     602|   ABE|        ATL|\n",
      "|01051245|   88|     602|   ABE|        ATL|\n",
      "|01050605|    9|     602|   ABE|        ATL|\n",
      "|01061215|   -6|     602|   ABE|        ATL|\n",
      "|01061725|   69|     602|   ABE|        ATL|\n",
      "|01061230|    0|     369|   ABE|        DTW|\n",
      "|01060625|   -3|     602|   ABE|        ATL|\n",
      "|01070600|    0|     369|   ABE|        DTW|\n",
      "|01071725|    0|     602|   ABE|        ATL|\n",
      "|01071230|    0|     369|   ABE|        DTW|\n",
      "|01070625|    0|     602|   ABE|        ATL|\n",
      "|01071219|    0|     569|   ABE|        ORD|\n",
      "|01080600|    0|     369|   ABE|        DTW|\n",
      "+--------+-----+--------+------+-----------+\n",
      "only showing top 20 rows\n",
      "\n"
     ]
    }
   ],
   "source": [
    "# renomeando uma coluna no dataframe \n",
    "df.withColumnRenamed('Nova Coluna', 'New Column') .show()"
   ]
  },
  {
   "cell_type": "code",
   "execution_count": 0,
   "metadata": {
    "application/vnd.databricks.v1+cell": {
     "cellMetadata": {},
     "inputWidgets": {},
     "nuid": "1453938a-21db-416f-ae2e-480fa3be1ac4",
     "showTitle": false,
     "tableResultSettingsMap": {},
     "title": ""
    }
   },
   "outputs": [],
   "source": []
  }
 ],
 "metadata": {
  "application/vnd.databricks.v1+notebook": {
   "computePreferences": null,
   "dashboards": [],
   "environmentMetadata": {
    "base_environment": "",
    "environment_version": "1"
   },
   "inputWidgetPreferences": null,
   "language": "python",
   "notebookMetadata": {
    "pythonIndentUnit": 4
   },
   "notebookName": "Date_pySpark",
   "widgets": {}
  },
  "language_info": {
   "name": "python"
  }
 },
 "nbformat": 4,
 "nbformat_minor": 0
}
